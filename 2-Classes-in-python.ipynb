{
 "cells": [
  {
   "cell_type": "code",
   "execution_count": 28,
   "id": "f4eb412c-dae8-4016-ba37-a886e8275bc6",
   "metadata": {},
   "outputs": [],
   "source": [
    "class Rectangle(object):\n",
    "    def __init__(self, length, width, color):\n",
    "        self.length = length\n",
    "        self.width = width\n",
    "        self.color = color\n"
   ]
  },
  {
   "cell_type": "code",
   "execution_count": 1,
   "id": "ba7b01c3-83ba-4194-bbbf-82e241ea94aa",
   "metadata": {},
   "outputs": [],
   "source": [
    "class Car:\n",
    "    max_speed = 120  # Class attribute\n",
    "\n",
    "    def __init__(self, make, model, color, speed=0):\n",
    "        self.make = make\n",
    "        self.model = model\n",
    "        self.color = color\n",
    "        self.speed = speed\n",
    "        self.acceleration = 0  # 🔹 Add this new instance variable\n",
    "\n",
    "    def accelerate(self, acceleration):\n",
    "        self.acceleration = acceleration  # 🔹 Store the acceleration value\n",
    "        \n",
    "        if self.speed + acceleration <= Car.max_speed:\n",
    "            self.speed += acceleration\n",
    "        else:\n",
    "            self.speed = Car.max_speed\n",
    "\n",
    "    def get_speed(self):\n",
    "        return self.speed\n",
    "\n",
    "    def get_acceleration(self):\n",
    "        return self.acceleration  # 🔹 New method to access acceleration\n",
    "        "
   ]
  },
  {
   "cell_type": "code",
   "execution_count": 67,
   "id": "d1b9e4ed-155b-4a44-9664-e41af06cdf38",
   "metadata": {},
   "outputs": [],
   "source": [
    "# Create objects (instances) of the Car class\n",
    "car1 = Car(\"Toyota\", \"Camry\", \"Blue\")\n",
    "car2 = Car(\"Honda\", \"Civic\", \"Red\")"
   ]
  },
  {
   "cell_type": "code",
   "execution_count": 68,
   "id": "5d3daed9-8d1b-4f38-8e50-e56478c30698",
   "metadata": {},
   "outputs": [],
   "source": [
    "# Accelerate the cars\n",
    "car1.accelerate(400)\n",
    "car2.accelerate(20)"
   ]
  },
  {
   "cell_type": "code",
   "execution_count": 70,
   "id": "60df2cb6-0ad9-4d60-98a8-84b18f30c9cd",
   "metadata": {},
   "outputs": [
    {
     "name": "stdout",
     "output_type": "stream",
     "text": [
      "Toyota Camry is currently at 120 km/h.\n",
      "Honda Civic is currently at 20 km/h.\n"
     ]
    }
   ],
   "source": [
    "# Print the current speeds of the cars\n",
    "print(f\"{car1.make} {car1.model} is currently at {car1.get_speed()} km/h.\")\n",
    "print(f\"{car2.make} {car2.model} is currently at {car2.get_speed()} km/h.\")"
   ]
  },
  {
   "cell_type": "code",
   "execution_count": 72,
   "id": "6127b606-1285-403c-9b50-0b95fb47aa2d",
   "metadata": {},
   "outputs": [
    {
     "data": {
      "text/plain": [
       "120"
      ]
     },
     "execution_count": 72,
     "metadata": {},
     "output_type": "execute_result"
    }
   ],
   "source": [
    "car1.get_speed()\n"
   ]
  },
  {
   "cell_type": "code",
   "execution_count": 74,
   "id": "0b5eb54a-9009-4538-ab16-b7edc073facf",
   "metadata": {},
   "outputs": [
    {
     "data": {
      "text/plain": [
       "400"
      ]
     },
     "execution_count": 74,
     "metadata": {},
     "output_type": "execute_result"
    }
   ],
   "source": [
    "car1.get_acceleration()\n"
   ]
  }
 ],
 "metadata": {
  "kernelspec": {
   "display_name": "Python 3 (ipykernel)",
   "language": "python",
   "name": "python3"
  },
  "language_info": {
   "codemirror_mode": {
    "name": "ipython",
    "version": 3
   },
   "file_extension": ".py",
   "mimetype": "text/x-python",
   "name": "python",
   "nbconvert_exporter": "python",
   "pygments_lexer": "ipython3",
   "version": "3.10.11"
  }
 },
 "nbformat": 4,
 "nbformat_minor": 5
}
