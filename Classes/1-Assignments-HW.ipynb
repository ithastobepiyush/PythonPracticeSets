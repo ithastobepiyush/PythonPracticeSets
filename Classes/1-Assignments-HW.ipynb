{
 "cells": [
  {
   "cell_type": "code",
   "execution_count": 1,
   "id": "0347633d-767d-4c86-90ad-d371f2328f3a",
   "metadata": {},
   "outputs": [],
   "source": [
    "class Circle(object):\n",
    "    # Constructor\n",
    "    def __init__(self, radius=3, color='blue'):\n",
    "        self.radius = radius\n",
    "        self.color = color\n",
    "\n",
    "\n",
    "    # Method\n",
    "    def add_radius(self, r):\n",
    "        self.radius = self.radius + r\n",
    "        return self.radius"
   ]
  },
  {
   "cell_type": "code",
   "execution_count": 10,
   "id": "d60a5a6b-f028-43bd-96d3-18420496436d",
   "metadata": {},
   "outputs": [
    {
     "data": {
      "text/plain": [
       "'yellow'"
      ]
     },
     "execution_count": 10,
     "metadata": {},
     "output_type": "execute_result"
    }
   ],
   "source": [
    "C1 = Circle(4, 'yellow')\n",
    "C1.color"
   ]
  },
  {
   "cell_type": "code",
   "execution_count": 18,
   "id": "c3a206ad-e062-4cea-a1ac-d0a3cdd0c3f5",
   "metadata": {},
   "outputs": [
    {
     "data": {
      "text/plain": [
       "'blue'"
      ]
     },
     "execution_count": 18,
     "metadata": {},
     "output_type": "execute_result"
    }
   ],
   "source": [
    "CircleObject = Circle()\n",
    "CircleObject.radius = 10\n",
    "CircleObject.radius\n",
    "CircleObject.color"
   ]
  },
  {
   "cell_type": "code",
   "execution_count": 52,
   "id": "b7b4579a-5d40-47d9-a229-0c910852bb4d",
   "metadata": {},
   "outputs": [
    {
     "name": "stdout",
     "output_type": "stream",
     "text": [
      "Below are the details of V1:\n",
      "max_speed: 200km/h \n",
      "mileage: 20km/l \n"
     ]
    }
   ],
   "source": [
    "class Vehicle:\n",
    "    color = \"white\"\n",
    "\n",
    "\n",
    "    def __init__(self, max_speed, mileage):\n",
    "        self.max_speed = max_speed\n",
    "        self.mileage = mileage\n",
    "        self.seating_capacity = None\n",
    "\n",
    "\n",
    "    def assign_seating_capacity(self, seating_capacity):\n",
    "        self.seating_capacity = seating_capacity\n",
    "\n",
    "    def showProperties(self):\n",
    "        print(f\"Below are the details of V1:\\nmax_speed: {self.max_speed}km/h \")\n",
    "        print(f\"mileage: {self.mileage}km/l \")\n",
    "\n",
    "V1 = Vehicle(200, 20)\n",
    "\n",
    "V1.color = \"Red\"\n",
    "V1.assign_seating_capacity(5)\n",
    "V1.showProperties()"
   ]
  },
  {
   "cell_type": "code",
   "execution_count": 55,
   "id": "bb97c6ae-1724-4f57-aa51-bd4340da1cf7",
   "metadata": {},
   "outputs": [
    {
     "name": "stdout",
     "output_type": "stream",
     "text": [
      "Below are the details of V1:\n",
      "max_speed: 350km/h \n",
      "mileage: 35km/l \n"
     ]
    }
   ],
   "source": [
    "V2 = Vehicle(350, 35)\n",
    "V2.color = \"Green\"          # change color for this object\n",
    "# V2.max_speed = 250         # update speed\n",
    "# V2.mileage = 25            # update mileage\n",
    "V2.seating_capacity = 7 \n",
    "# V1.color = \"Red\"\n",
    "# V1 = Vehicle(200, 20)\n",
    "V2.assign_seating_capacity(5)\n",
    "V2.showProperties()"
   ]
  },
  {
   "cell_type": "code",
   "execution_count": 9,
   "id": "61413f97-4edb-405b-a578-ba60ec185a14",
   "metadata": {},
   "outputs": [],
   "source": [
    "import matplotlib.pyplot as plt\n",
    "\n",
    "class TextAnalyzer:\n",
    "    def __init__(self, text):\n",
    "        # for removing punctuations and all of that stuff\n",
    "        formattedText = text.replace('?','').replace('!','').replace(',','').replace('.','').replace('\\'','')\n",
    "        # to convert the whole sentence or para in lowercase to standerise all of the cases to lower\n",
    "        formattedText = formattedText.lower()\n",
    "        self.frmtText = formattedText\n",
    "   \n",
    "    # creating a dictionary for the kjkey value pairs\n",
    "    \n",
    "    def freqAll(self):\n",
    "        # splitting the words from whole string and then storing them in a list\n",
    "        # Step 1: Split into words and then stores in wordList\n",
    "        wordList = self.frmtText.split()\n",
    "        # Step 2: Create empty dictionary\n",
    "        freqMap = {}\n",
    "        # Step 3 & 4: Loop and count occurrences\n",
    "        for word in set(wordList):\n",
    "            freqMap[word] = wordList.count(word)\n",
    "        # Step 5: Return the frequency dictionary\n",
    "        return freqMap\n",
    "\n",
    "\n",
    "    # freqOf(word) → relies on freqAll() → gets full frequency dictionary → returns only the count for `word`\n",
    "    def freqOf(self, word):\n",
    "        freqDict = self.freqAll()\n",
    "        if word in freqDict:\n",
    "            \n",
    "            return freqDict[word]\n",
    "        else:\n",
    "            return 0\n",
    "            \n",
    "    def showGraph(self):\n",
    "        freqMap = self.freqAll()\n",
    "        \n",
    "        # Plotting bar graph\n",
    "        plt.figure(figsize=(7, 4))\n",
    "        plt.bar(freqMap.keys(), freqMap.values(), color='yellow')\n",
    "        plt.title(\"Word Frequency Visualization\")\n",
    "        plt.xlabel(\"Words\")\n",
    "        plt.ylabel(\"Count\")\n",
    "        plt.xticks(rotation=45)\n",
    "        plt.show()\n"
   ]
  },
  {
   "cell_type": "code",
   "execution_count": 13,
   "id": "bdda1b04-8839-4c6e-bdaf-e35b1564e166",
   "metadata": {},
   "outputs": [],
   "source": [
    "\n",
    "givenstring=\"Lorem ipsum dolor! diam amet, consetetur Lorem magna. sed diam nonumy eirmod tempor. diam et labore? et diam magna. et diam amet. Lorem ipsum dolor! diam amet, consetetur Lorem magna. sed diam nonumy eirmod tempor. diam et labore? et diam magna. et diam amet.\""
   ]
  },
  {
   "cell_type": "code",
   "execution_count": 16,
   "id": "9ab795a2-ce8f-4339-8730-94123c319746",
   "metadata": {},
   "outputs": [
    {
     "data": {
      "text/plain": [
       "0"
      ]
     },
     "execution_count": 16,
     "metadata": {},
     "output_type": "execute_result"
    }
   ],
   "source": [
    "TestSub.freqOf('met')"
   ]
  },
  {
   "cell_type": "code",
   "execution_count": 10,
   "id": "d0b02493-df01-440f-8e77-ac9557cc9ae0",
   "metadata": {},
   "outputs": [
    {
     "ename": "AttributeError",
     "evalue": "'tuple' object has no attribute 'keys'",
     "output_type": "error",
     "traceback": [
      "\u001b[1;31m---------------------------------------------------------------------------\u001b[0m",
      "\u001b[1;31mAttributeError\u001b[0m                            Traceback (most recent call last)",
      "Cell \u001b[1;32mIn[10], line 1\u001b[0m\n\u001b[1;32m----> 1\u001b[0m \u001b[43mTestSub\u001b[49m\u001b[38;5;241;43m.\u001b[39;49m\u001b[43mshowGraph\u001b[49m\u001b[43m(\u001b[49m\u001b[43m)\u001b[49m\n",
      "Cell \u001b[1;32mIn[6], line 39\u001b[0m, in \u001b[0;36mTextAnalyzer.showGraph\u001b[1;34m(self)\u001b[0m\n\u001b[0;32m     37\u001b[0m \u001b[38;5;66;03m# Plotting bar graph\u001b[39;00m\n\u001b[0;32m     38\u001b[0m plt\u001b[38;5;241m.\u001b[39mfigure(figsize\u001b[38;5;241m=\u001b[39m(\u001b[38;5;241m7\u001b[39m, \u001b[38;5;241m4\u001b[39m))\n\u001b[1;32m---> 39\u001b[0m plt\u001b[38;5;241m.\u001b[39mbar(\u001b[43mfreqMap\u001b[49m\u001b[38;5;241;43m.\u001b[39;49m\u001b[43mkeys\u001b[49m(), freqMap\u001b[38;5;241m.\u001b[39mvalues(), color\u001b[38;5;241m=\u001b[39m\u001b[38;5;124m'\u001b[39m\u001b[38;5;124myellow\u001b[39m\u001b[38;5;124m'\u001b[39m)\n\u001b[0;32m     40\u001b[0m plt\u001b[38;5;241m.\u001b[39mtitle(\u001b[38;5;124m\"\u001b[39m\u001b[38;5;124mWord Frequency Visualization\u001b[39m\u001b[38;5;124m\"\u001b[39m)\n\u001b[0;32m     41\u001b[0m plt\u001b[38;5;241m.\u001b[39mxlabel(\u001b[38;5;124m\"\u001b[39m\u001b[38;5;124mWords\u001b[39m\u001b[38;5;124m\"\u001b[39m)\n",
      "\u001b[1;31mAttributeError\u001b[0m: 'tuple' object has no attribute 'keys'"
     ]
    },
    {
     "data": {
      "text/plain": [
       "<Figure size 700x400 with 0 Axes>"
      ]
     },
     "metadata": {},
     "output_type": "display_data"
    }
   ],
   "source": [
    "TestSub.showGraph()"
   ]
  }
 ],
 "metadata": {
  "kernelspec": {
   "display_name": "Python 3 (ipykernel)",
   "language": "python",
   "name": "python3"
  },
  "language_info": {
   "codemirror_mode": {
    "name": "ipython",
    "version": 3
   },
   "file_extension": ".py",
   "mimetype": "text/x-python",
   "name": "python",
   "nbconvert_exporter": "python",
   "pygments_lexer": "ipython3",
   "version": "3.10.11"
  }
 },
 "nbformat": 4,
 "nbformat_minor": 5
}
