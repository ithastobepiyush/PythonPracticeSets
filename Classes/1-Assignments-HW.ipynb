{
 "cells": [
  {
   "cell_type": "code",
   "execution_count": 1,
   "id": "0347633d-767d-4c86-90ad-d371f2328f3a",
   "metadata": {},
   "outputs": [],
   "source": [
    "class Circle(object):\n",
    "    # Constructor\n",
    "    def __init__(self, radius=3, color='blue'):\n",
    "        self.radius = radius\n",
    "        self.color = color\n",
    "\n",
    "\n",
    "    # Method\n",
    "    def add_radius(self, r):\n",
    "        self.radius = self.radius + r\n",
    "        return self.radius"
   ]
  },
  {
   "cell_type": "code",
   "execution_count": 10,
   "id": "d60a5a6b-f028-43bd-96d3-18420496436d",
   "metadata": {},
   "outputs": [
    {
     "data": {
      "text/plain": [
       "'yellow'"
      ]
     },
     "execution_count": 10,
     "metadata": {},
     "output_type": "execute_result"
    }
   ],
   "source": [
    "C1 = Circle(4, 'yellow')\n",
    "C1.color"
   ]
  },
  {
   "cell_type": "code",
   "execution_count": 18,
   "id": "c3a206ad-e062-4cea-a1ac-d0a3cdd0c3f5",
   "metadata": {},
   "outputs": [
    {
     "data": {
      "text/plain": [
       "'blue'"
      ]
     },
     "execution_count": 18,
     "metadata": {},
     "output_type": "execute_result"
    }
   ],
   "source": [
    "CircleObject = Circle()\n",
    "CircleObject.radius = 10\n",
    "CircleObject.radius\n",
    "CircleObject.color"
   ]
  },
  {
   "cell_type": "code",
   "execution_count": 52,
   "id": "b7b4579a-5d40-47d9-a229-0c910852bb4d",
   "metadata": {},
   "outputs": [
    {
     "name": "stdout",
     "output_type": "stream",
     "text": [
      "Below are the details of V1:\n",
      "max_speed: 200km/h \n",
      "mileage: 20km/l \n"
     ]
    }
   ],
   "source": [
    "class Vehicle:\n",
    "    color = \"white\"\n",
    "\n",
    "\n",
    "    def __init__(self, max_speed, mileage):\n",
    "        self.max_speed = max_speed\n",
    "        self.mileage = mileage\n",
    "        self.seating_capacity = None\n",
    "\n",
    "\n",
    "    def assign_seating_capacity(self, seating_capacity):\n",
    "        self.seating_capacity = seating_capacity\n",
    "\n",
    "    def showProperties(self):\n",
    "        print(f\"Below are the details of V1:\\nmax_speed: {self.max_speed}km/h \")\n",
    "        print(f\"mileage: {self.mileage}km/l \")\n",
    "\n",
    "V1 = Vehicle(200, 20)\n",
    "\n",
    "V1.color = \"Red\"\n",
    "V1.assign_seating_capacity(5)\n",
    "V1.showProperties()"
   ]
  },
  {
   "cell_type": "code",
   "execution_count": 55,
   "id": "bb97c6ae-1724-4f57-aa51-bd4340da1cf7",
   "metadata": {},
   "outputs": [
    {
     "name": "stdout",
     "output_type": "stream",
     "text": [
      "Below are the details of V1:\n",
      "max_speed: 350km/h \n",
      "mileage: 35km/l \n"
     ]
    }
   ],
   "source": [
    "V2 = Vehicle(350, 35)\n",
    "V2.color = \"Green\"          # change color for this object\n",
    "# V2.max_speed = 250         # update speed\n",
    "# V2.mileage = 25            # update mileage\n",
    "V2.seating_capacity = 7 \n",
    "# V1.color = \"Red\"\n",
    "# V1 = Vehicle(200, 20)\n",
    "V2.assign_seating_capacity(5)\n",
    "V2.showProperties()"
   ]
  }
 ],
 "metadata": {
  "kernelspec": {
   "display_name": "Python 3 (ipykernel)",
   "language": "python",
   "name": "python3"
  },
  "language_info": {
   "codemirror_mode": {
    "name": "ipython",
    "version": 3
   },
   "file_extension": ".py",
   "mimetype": "text/x-python",
   "name": "python",
   "nbconvert_exporter": "python",
   "pygments_lexer": "ipython3",
   "version": "3.10.11"
  }
 },
 "nbformat": 4,
 "nbformat_minor": 5
}
