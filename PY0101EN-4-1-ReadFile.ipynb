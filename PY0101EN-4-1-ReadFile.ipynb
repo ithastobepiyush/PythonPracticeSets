{
 "cells": [
  {
   "cell_type": "markdown",
   "id": "28bc9f92-94d7-4e4c-ad1d-6bb53a8bf6ba",
   "metadata": {},
   "source": [
    "\n",
    "# Reading Files Python\n",
    "\n",
    "\n",
    "## Objectives\n",
    "\n",
    "After completing this lab you will be able to:\n",
    "\n",
    "*   Read text files using Python libraries\n"
   ]
  },
  {
   "cell_type": "markdown",
   "id": "d40ebf27-7a9a-47eb-8299-bcd9324c93ea",
   "metadata": {},
   "source": [
    "<h2>Table of Contents</h2>\n",
    "<div class=\"alert alert-block alert-info\" style=\"margin-top: 20px\">\n",
    "    <ul>\n",
    "        <li><a href=\"https://download/?utm_medium=Exinfluencer&utm_source=Exinfluencer&utm_content=000026UJ&utm_term=10006555&utm_id=NA-SkillsNetwork-Channel-SkillsNetworkCoursesIBMDeveloperSkillsNetworkPY0101ENSkillsNetwork19487395-2021-01-01\">Download Data</a></li>\n",
    "        <li><a href=\"https://read/?utm_medium=Exinfluencer&utm_source=Exinfluencer&utm_content=000026UJ&utm_term=10006555&utm_id=NA-SkillsNetwork-Channel-SkillsNetworkCoursesIBMDeveloperSkillsNetworkPY0101ENSkillsNetwork19487395-2021-01-01\">Reading Text Files</a></li>\n",
    "        <li><a href=\"https://better/?utm_medium=Exinfluencer&utm_source=Exinfluencer&utm_content=000026UJ&utm_term=10006555&utm_id=NA-SkillsNetwork-Channel-SkillsNetworkCoursesIBMDeveloperSkillsNetworkPY0101ENSkillsNetwork19487395-2021-01-01\">A Better Way to Open a File</a></li>\n",
    "    </ul>\n",
    "\n",
    "</div>\n",
    "\n",
    "<hr>\n"
   ]
  },
  {
   "cell_type": "markdown",
   "id": "2d153caf-66ae-4348-83a8-35afc9609be3",
   "metadata": {},
   "source": [
    "<h2 id=\"download\">Download Data</h2>\n"
   ]
  },
  {
   "cell_type": "code",
   "execution_count": 1,
   "id": "de2814a1-08c1-43f8-a4ad-816e6e61e203",
   "metadata": {},
   "outputs": [
    {
     "name": "stdout",
     "output_type": "stream",
     "text": [
      "The following are the graphical (non-control) characters defined by\n",
      "ISO 8859-1 (1987).  Descriptions in words aren't all that helpful,\n",
      "but they're the best we can do in text.  A graphics file illustrating\n",
      "the character set should be available from the same archive as this\n",
      "file.\n",
      "\n",
      "Hex Description                 Hex Description\n",
      "\n",
      "20  SPACE\n",
      "21  EXCLAMATION MARK            A1  INVERTED EXCLAMATION MARK\n",
      "22  QUOTATION MARK              A2  CENT SIGN\n",
      "23  NUMBER SIGN                 A3  POUND SIGN\n",
      "24  DOLLAR SIGN                 A4  CURRENCY SIGN\n",
      "25  PERCENT SIGN                A5  YEN SIGN\n",
      "26  AMPERSAND                   A6  BROKEN BAR\n",
      "27  APOSTROPHE                  A7  SECTION SIGN\n",
      "28  LEFT PARENTHESIS            A8  DIAERESIS\n",
      "29  RIGHT PARENTHESIS           A9  COPYRIGHT SIGN\n",
      "2A  ASTERISK                    AA  FEMININE ORDINAL INDICATOR\n",
      "2B  PLUS SIGN                   AB  LEFT-POINTING DOUBLE ANGLE QUOTATION MARK\n",
      "2C  COMMA                       AC  NOT SIGN\n",
      "2D  HYPHEN-MINUS                AD  SOFT HYPHEN\n",
      "2E  FULL STOP                   AE  REGISTERED SIGN\n",
      "2F  SOLIDUS                     AF  OVERLINE\n",
      "30  DIGIT ZERO                  B0  DEGREE SIGN\n",
      "31  DIGIT ONE                   B1  PLUS-MINUS SIGN\n",
      "32  DIGIT TWO                   B2  SUPERSCRIPT TWO\n",
      "33  DIGIT THREE                 B3  SUPERSCRIPT THREE\n",
      "34  DIGIT FOUR                  B4  ACUTE ACCENT\n",
      "35  DIGIT FIVE                  B5  MICRO SIGN\n",
      "36  DIGIT SIX                   B6  PILCROW SIGN\n",
      "37  DIGIT SEVEN                 B7  MIDDLE DOT\n",
      "38  DIGIT EIGHT                 B8  CEDILLA\n",
      "39  DIGIT NINE                  B9  SUPERSCRIPT ONE\n",
      "3A  COLON                       BA  MASCULINE ORDINAL INDICATOR\n",
      "3B  SEMICOLON                   BB  RIGHT-POINTING DOUBLE ANGLE QUOTATION MARK\n",
      "3C  LESS-THAN SIGN              BC  VULGAR FRACTION ONE QUARTER\n",
      "3D  EQUALS SIGN                 BD  VULGAR FRACTION ONE HALF\n",
      "3E  GREATER-THAN SIGN           BE  VULGAR FRACTION THREE QUARTERS\n",
      "3F  QUESTION MARK               BF  INVERTED QUESTION MARK\n",
      "40  COMMERCIAL AT               C0  CAPITAL LETTER A WITH GRAVE\n",
      "41  CAPITAL LETTER A            C1  CAPITAL LETTER A WITH ACUTE\n",
      "42  CAPITAL LETTER B            C2  CAPITAL LETTER A WITH CIRCUMFLEX\n",
      "43  CAPITAL LETTER C            C3  CAPITAL LETTER A WITH TILDE\n",
      "44  CAPITAL LETTER D            C4  CAPITAL LETTER A WITH DIAERESIS\n",
      "45  CAPITAL LETTER E            C5  CAPITAL LETTER A WITH RING ABOVE\n",
      "46  CAPITAL LETTER F            C6  CAPITAL LETTER AE\n",
      "47  CAPITAL LETTER G            C7  CAPITAL LETTER C WITH CEDILLA\n",
      "48  CAPITAL LETTER H            C8  CAPITAL LETTER E WITH GRAVE\n",
      "49  CAPITAL LETTER I            C9  CAPITAL LETTER E WITH ACUTE\n",
      "4A  CAPITAL LETTER J            CA  CAPITAL LETTER E WITH CIRCUMFLEX\n",
      "4B  CAPITAL LETTER K            CB  CAPITAL LETTER E WITH DIAERESIS\n",
      "4C  CAPITAL LETTER L            CC  CAPITAL LETTER I WITH GRAVE\n",
      "4D  CAPITAL LETTER M            CD  CAPITAL LETTER I WITH ACUTE\n",
      "4E  CAPITAL LETTER N            CE  CAPITAL LETTER I WITH CIRCUMFLEX\n",
      "4F  CAPITAL LETTER O            CF  CAPITAL LETTER I WITH DIAERESIS\n",
      "50  CAPITAL LETTER P            D0  CAPITAL LETTER ETH (Icelandic)\n",
      "51  CAPITAL LETTER Q            D1  CAPITAL LETTER N WITH TILDE\n",
      "52  CAPITAL LETTER R            D2  CAPITAL LETTER O WITH GRAVE\n",
      "53  CAPITAL LETTER S            D3  CAPITAL LETTER O WITH ACUTE\n",
      "54  CAPITAL LETTER T            D4  CAPITAL LETTER O WITH CIRCUMFLEX\n",
      "55  CAPITAL LETTER U            D5  CAPITAL LETTER O WITH TILDE\n",
      "56  CAPITAL LETTER V            D6  CAPITAL LETTER O WITH DIAERESIS\n",
      "57  CAPITAL LETTER W            D7  MULTIPLICATION SIGN\n",
      "58  CAPITAL LETTER X            D8  CAPITAL LETTER O WITH STROKE\n",
      "59  CAPITAL LETTER Y            D9  CAPITAL LETTER U WITH GRAVE\n",
      "5A  CAPITAL LETTER Z            DA  CAPITAL LETTER U WITH ACUTE\n",
      "5B  LEFT SQUARE BRACKET         DB  CAPITAL LETTER U WITH CIRCUMFLEX\n",
      "5C  REVERSE SOLIDUS             DC  CAPITAL LETTER U WITH DIAERESIS\n",
      "5D  RIGHT SQUARE BRACKET        DD  CAPITAL LETTER Y WITH ACUTE\n",
      "5E  CIRCUMFLEX ACCENT           DE  CAPITAL LETTER THORN (Icelandic)\n",
      "5F  LOW LINE                    DF  SMALL LETTER SHARP S (German)\n",
      "60  GRAVE ACCENT                E0  SMALL LETTER A WITH GRAVE\n",
      "61  SMALL LETTER A              E1  SMALL LETTER A WITH ACUTE\n",
      "62  SMALL LETTER B              E2  SMALL LETTER A WITH CIRCUMFLEX\n",
      "63  SMALL LETTER C              E3  SMALL LETTER A WITH TILDE\n",
      "64  SMALL LETTER D              E4  SMALL LETTER A WITH DIAERESIS\n",
      "65  SMALL LETTER E              E5  SMALL LETTER A WITH RING ABOVE\n",
      "66  SMALL LETTER F              E6  SMALL LETTER AE\n",
      "67  SMALL LETTER G              E7  SMALL LETTER C WITH CEDILLA\n",
      "68  SMALL LETTER H              E8  SMALL LETTER E WITH GRAVE\n",
      "69  SMALL LETTER I              E9  SMALL LETTER E WITH ACUTE\n",
      "6A  SMALL LETTER J              EA  SMALL LETTER E WITH CIRCUMFLEX\n",
      "6B  SMALL LETTER K              EB  SMALL LETTER E WITH DIAERESIS\n",
      "6C  SMALL LETTER L              EC  SMALL LETTER I WITH GRAVE\n",
      "6D  SMALL LETTER M              ED  SMALL LETTER I WITH ACUTE\n",
      "6E  SMALL LETTER N              EE  SMALL LETTER I WITH CIRCUMFLEX\n",
      "6F  SMALL LETTER O              EF  SMALL LETTER I WITH DIAERESIS\n",
      "70  SMALL LETTER P              F0  SMALL LETTER ETH (Icelandic)\n",
      "71  SMALL LETTER Q              F1  SMALL LETTER N WITH TILDE\n",
      "72  SMALL LETTER R              F2  SMALL LETTER O WITH GRAVE\n",
      "73  SMALL LETTER S              F3  SMALL LETTER O WITH ACUTE\n",
      "74  SMALL LETTER T              F4  SMALL LETTER O WITH CIRCUMFLEX\n",
      "75  SMALL LETTER U              F5  SMALL LETTER O WITH TILDE\n",
      "76  SMALL LETTER V              F6  SMALL LETTER O WITH DIAERESIS\n",
      "77  SMALL LETTER W              F7  DIVISION SIGN\n",
      "78  SMALL LETTER X              F8  SMALL LETTER O WITH STROKE\n",
      "79  SMALL LETTER Y              F9  SMALL LETTER U WITH GRAVE\n",
      "7A  SMALL LETTER Z              FA  SMALL LETTER U WITH ACUTE\n",
      "7B  LEFT CURLY BRACKET          FB  SMALL LETTER U WITH CIRCUMFLEX\n",
      "7C  VERTICAL LINE               FC  SMALL LETTER U WITH DIAERESIS\n",
      "7D  RIGHT CURLY BRACKET         FD  SMALL LETTER Y WITH ACUTE\n",
      "7E  TILDE                       FE  SMALL LETTER THORN (Icelandic)\n",
      "                                FF  SMALL LETTER Y WITH DIAERESIS\n"
     ]
    },
    {
     "name": "stderr",
     "output_type": "stream",
     "text": [
      "  % Total    % Received % Xferd  Average Speed   Time    Time     Time  Current\n",
      "                                 Dload  Upload   Total   Spent    Left  Speed\n",
      "\n",
      "  0     0    0     0    0     0      0      0 --:--:-- --:--:-- --:--:--     0curl: (6) Could not resolve host: example1.txt\n",
      "  % Total    % Received % Xferd  Average Speed   Time    Time     Time  Current\n",
      "                                 Dload  Upload   Total   Spent    Left  Speed\n",
      "\n",
      "  0     0    0     0    0     0      0      0 --:--:-- --:--:-- --:--:--     0\n",
      "100  6121    0  6121    0     0   6721      0 --:--:-- --:--:-- --:--:--  6726\n",
      "100  6121    0  6121    0     0   6720      0 --:--:-- --:--:-- --:--:--  6726\n"
     ]
    }
   ],
   "source": [
    "import urllib.request\n",
    "url = 'https://www.w3.org/TR/2003/REC-PNG-20031110/iso_8859-1.txt'\n",
    "filename = 'example1.txt'\n",
    "urllib.request.urlretrieve(url, filename)\n",
    "\n",
    "## Download Example file\n",
    "!curl example1.txt https://www.w3.org/TR/2003/REC-PNG-20031110/iso_8859-1.txt"
   ]
  },
  {
   "cell_type": "code",
   "execution_count": 2,
   "id": "d271022e-5962-477b-ade4-2bc87e994d23",
   "metadata": {},
   "outputs": [],
   "source": [
    "# from pyodide.http import pyfetch\n",
    "\n",
    "# import pandas as pd\n",
    "\n",
    "# filename = \"https://cf-courses-data.s3.us.cloud-object-storage.appdomain.cloud/IBMDeveloperSkillsNetwork-PY0101EN-SkillsNetwork/labs/Module%204/data/example1.txt\"\n",
    "\n",
    "# async def download(url, filename):\n",
    "\n",
    "#     response = await pyfetch(url)\n",
    "\n",
    "#     if response.status == 200:\n",
    "\n",
    "#         with open(filename, \"wb\") as f:\n",
    "\n",
    "#             f.write(await response.bytes())\n",
    "\n",
    "# await download(filename, \"example1.txt\")\n",
    "\n",
    "# print(\"done\")\n"
   ]
  },
  {
   "cell_type": "markdown",
   "id": "6e114a10-aba3-4b24-ac8c-e7e6a46ee297",
   "metadata": {},
   "source": [
    "<hr>\n"
   ]
  },
  {
   "cell_type": "markdown",
   "id": "e7802a2a-50bf-4588-afc1-d6cc4e15aeec",
   "metadata": {},
   "source": [
    "<h2 id=\"read\">Reading Text Files</h2>\n"
   ]
  },
  {
   "cell_type": "markdown",
   "id": "a7ec78de-7ab2-48f8-9ecd-ca48c983d904",
   "metadata": {},
   "source": [
    "One way to read or write a file in Python is to use the built-in <code>open</code> function. The <code>open</code> function provides a **File object** that contains the methods and attributes you need in order to read, save, and manipulate the file. In this notebook, we will only cover **.txt** files. The first parameter you need is the file path and the file name. An example is shown as follow:\n"
   ]
  },
  {
   "cell_type": "markdown",
   "id": "535b5b78-13ec-41fd-ac71-90cba4a9271a",
   "metadata": {},
   "source": [
    "<img src=\"https://cf-courses-data.s3.us.cloud-object-storage.appdomain.cloud/IBMDeveloperSkillsNetwork-PY0101EN-SkillsNetwork/labs/Module%204/images/ReadOpen.png\" width=\"500\">\n"
   ]
  },
  {
   "cell_type": "markdown",
   "id": "9933bf3f-4160-4124-b602-af2f6b0f8828",
   "metadata": {},
   "source": [
    "The mode argument is optional and the default value is **r**. In this notebook we only cover two modes:\n",
    "\n",
    "<ul>\n",
    "    <li>**r**: Read mode for reading files </li>\n",
    "    <li>**w**: Write mode for writing files</li>\n",
    "</ul>\n"
   ]
  },
  {
   "cell_type": "markdown",
   "id": "8ba3da27-9605-4d12-aa75-a50c2a2227b2",
   "metadata": {},
   "source": [
    "For the next example, we will use the text file **Example1.txt**. The file is shown as follows:\n"
   ]
  },
  {
   "cell_type": "markdown",
   "id": "ce652085-619c-4bb4-aad9-952a1c34df42",
   "metadata": {},
   "source": [
    "<img src=\"https://cf-courses-data.s3.us.cloud-object-storage.appdomain.cloud/IBMDeveloperSkillsNetwork-PY0101EN-SkillsNetwork/labs/Module%204/images/ReadFile.png\" width=\"100\">\n"
   ]
  },
  {
   "cell_type": "markdown",
   "id": "d62d823c-f772-453f-a9bf-2daf8fe2f329",
   "metadata": {},
   "source": [
    "We read the file:\n"
   ]
  },
  {
   "cell_type": "code",
   "execution_count": 3,
   "id": "005326c8-faa0-4025-9136-b26ccb8d1bd4",
   "metadata": {},
   "outputs": [],
   "source": [
    "# Read the Example1.txt\n",
    "example1 = \"example1.txt\"\n",
    "file1 = open(example1, \"r\")\n"
   ]
  },
  {
   "cell_type": "markdown",
   "id": "b78ffb67-fb93-4f82-84f8-e05ff9e38009",
   "metadata": {},
   "source": [
    "We can view the attributes of the file.\n"
   ]
  },
  {
   "cell_type": "markdown",
   "id": "7c985676-9f77-4825-a12a-d79fde160c7a",
   "metadata": {},
   "source": [
    "The name of the file:\n"
   ]
  },
  {
   "cell_type": "code",
   "execution_count": 4,
   "id": "01fd6db7-facd-4b30-b730-a3be51593e0b",
   "metadata": {},
   "outputs": [
    {
     "data": {
      "text/plain": [
       "'example1.txt'"
      ]
     },
     "execution_count": 4,
     "metadata": {},
     "output_type": "execute_result"
    }
   ],
   "source": [
    "# Print the path of file\n",
    "\n",
    "file1.name"
   ]
  },
  {
   "cell_type": "markdown",
   "id": "b7607a39-7061-4cd1-b8d3-4ba0e5b6566e",
   "metadata": {},
   "source": [
    "The mode the file object is in:\n"
   ]
  },
  {
   "cell_type": "code",
   "execution_count": 5,
   "id": "c056529b-04e6-4a35-913a-967fcae9a307",
   "metadata": {},
   "outputs": [
    {
     "data": {
      "text/plain": [
       "'r'"
      ]
     },
     "execution_count": 5,
     "metadata": {},
     "output_type": "execute_result"
    }
   ],
   "source": [
    "# Print the mode of file, either 'r' or 'w'\n",
    "\n",
    "file1.mode"
   ]
  },
  {
   "cell_type": "markdown",
   "id": "f3c67061-26d8-4798-b9d1-89f5fed84579",
   "metadata": {},
   "source": [
    "We can read the file and assign it to a variable :\n"
   ]
  },
  {
   "cell_type": "code",
   "execution_count": 6,
   "id": "348b76fd-1f39-4d1e-8ebd-ebf1152b851f",
   "metadata": {},
   "outputs": [
    {
     "data": {
      "text/plain": [
       "\"The following are the graphical (non-control) characters defined by\\nISO 8859-1 (1987).  Descriptions in words aren't all that helpful,\\nbut they're the best we can do in text.  A graphics file illustrating\\nthe character set should be available from the same archive as this\\nfile.\\n\\nHex Description                 Hex Description\\n\\n20  SPACE\\n21  EXCLAMATION MARK            A1  INVERTED EXCLAMATION MARK\\n22  QUOTATION MARK              A2  CENT SIGN\\n23  NUMBER SIGN                 A3  POUND SIGN\\n24  DOLLAR SIGN                 A4  CURRENCY SIGN\\n25  PERCENT SIGN                A5  YEN SIGN\\n26  AMPERSAND                   A6  BROKEN BAR\\n27  APOSTROPHE                  A7  SECTION SIGN\\n28  LEFT PARENTHESIS            A8  DIAERESIS\\n29  RIGHT PARENTHESIS           A9  COPYRIGHT SIGN\\n2A  ASTERISK                    AA  FEMININE ORDINAL INDICATOR\\n2B  PLUS SIGN                   AB  LEFT-POINTING DOUBLE ANGLE QUOTATION MARK\\n2C  COMMA                       AC  NOT SIGN\\n2D  HYPHEN-MINUS                AD  SOFT HYPHEN\\n2E  FULL STOP                   AE  REGISTERED SIGN\\n2F  SOLIDUS                     AF  OVERLINE\\n30  DIGIT ZERO                  B0  DEGREE SIGN\\n31  DIGIT ONE                   B1  PLUS-MINUS SIGN\\n32  DIGIT TWO                   B2  SUPERSCRIPT TWO\\n33  DIGIT THREE                 B3  SUPERSCRIPT THREE\\n34  DIGIT FOUR                  B4  ACUTE ACCENT\\n35  DIGIT FIVE                  B5  MICRO SIGN\\n36  DIGIT SIX                   B6  PILCROW SIGN\\n37  DIGIT SEVEN                 B7  MIDDLE DOT\\n38  DIGIT EIGHT                 B8  CEDILLA\\n39  DIGIT NINE                  B9  SUPERSCRIPT ONE\\n3A  COLON                       BA  MASCULINE ORDINAL INDICATOR\\n3B  SEMICOLON                   BB  RIGHT-POINTING DOUBLE ANGLE QUOTATION MARK\\n3C  LESS-THAN SIGN              BC  VULGAR FRACTION ONE QUARTER\\n3D  EQUALS SIGN                 BD  VULGAR FRACTION ONE HALF\\n3E  GREATER-THAN SIGN           BE  VULGAR FRACTION THREE QUARTERS\\n3F  QUESTION MARK               BF  INVERTED QUESTION MARK\\n40  COMMERCIAL AT               C0  CAPITAL LETTER A WITH GRAVE\\n41  CAPITAL LETTER A            C1  CAPITAL LETTER A WITH ACUTE\\n42  CAPITAL LETTER B            C2  CAPITAL LETTER A WITH CIRCUMFLEX\\n43  CAPITAL LETTER C            C3  CAPITAL LETTER A WITH TILDE\\n44  CAPITAL LETTER D            C4  CAPITAL LETTER A WITH DIAERESIS\\n45  CAPITAL LETTER E            C5  CAPITAL LETTER A WITH RING ABOVE\\n46  CAPITAL LETTER F            C6  CAPITAL LETTER AE\\n47  CAPITAL LETTER G            C7  CAPITAL LETTER C WITH CEDILLA\\n48  CAPITAL LETTER H            C8  CAPITAL LETTER E WITH GRAVE\\n49  CAPITAL LETTER I            C9  CAPITAL LETTER E WITH ACUTE\\n4A  CAPITAL LETTER J            CA  CAPITAL LETTER E WITH CIRCUMFLEX\\n4B  CAPITAL LETTER K            CB  CAPITAL LETTER E WITH DIAERESIS\\n4C  CAPITAL LETTER L            CC  CAPITAL LETTER I WITH GRAVE\\n4D  CAPITAL LETTER M            CD  CAPITAL LETTER I WITH ACUTE\\n4E  CAPITAL LETTER N            CE  CAPITAL LETTER I WITH CIRCUMFLEX\\n4F  CAPITAL LETTER O            CF  CAPITAL LETTER I WITH DIAERESIS\\n50  CAPITAL LETTER P            D0  CAPITAL LETTER ETH (Icelandic)\\n51  CAPITAL LETTER Q            D1  CAPITAL LETTER N WITH TILDE\\n52  CAPITAL LETTER R            D2  CAPITAL LETTER O WITH GRAVE\\n53  CAPITAL LETTER S            D3  CAPITAL LETTER O WITH ACUTE\\n54  CAPITAL LETTER T            D4  CAPITAL LETTER O WITH CIRCUMFLEX\\n55  CAPITAL LETTER U            D5  CAPITAL LETTER O WITH TILDE\\n56  CAPITAL LETTER V            D6  CAPITAL LETTER O WITH DIAERESIS\\n57  CAPITAL LETTER W            D7  MULTIPLICATION SIGN\\n58  CAPITAL LETTER X            D8  CAPITAL LETTER O WITH STROKE\\n59  CAPITAL LETTER Y            D9  CAPITAL LETTER U WITH GRAVE\\n5A  CAPITAL LETTER Z            DA  CAPITAL LETTER U WITH ACUTE\\n5B  LEFT SQUARE BRACKET         DB  CAPITAL LETTER U WITH CIRCUMFLEX\\n5C  REVERSE SOLIDUS             DC  CAPITAL LETTER U WITH DIAERESIS\\n5D  RIGHT SQUARE BRACKET        DD  CAPITAL LETTER Y WITH ACUTE\\n5E  CIRCUMFLEX ACCENT           DE  CAPITAL LETTER THORN (Icelandic)\\n5F  LOW LINE                    DF  SMALL LETTER SHARP S (German)\\n60  GRAVE ACCENT                E0  SMALL LETTER A WITH GRAVE\\n61  SMALL LETTER A              E1  SMALL LETTER A WITH ACUTE\\n62  SMALL LETTER B              E2  SMALL LETTER A WITH CIRCUMFLEX\\n63  SMALL LETTER C              E3  SMALL LETTER A WITH TILDE\\n64  SMALL LETTER D              E4  SMALL LETTER A WITH DIAERESIS\\n65  SMALL LETTER E              E5  SMALL LETTER A WITH RING ABOVE\\n66  SMALL LETTER F              E6  SMALL LETTER AE\\n67  SMALL LETTER G              E7  SMALL LETTER C WITH CEDILLA\\n68  SMALL LETTER H              E8  SMALL LETTER E WITH GRAVE\\n69  SMALL LETTER I              E9  SMALL LETTER E WITH ACUTE\\n6A  SMALL LETTER J              EA  SMALL LETTER E WITH CIRCUMFLEX\\n6B  SMALL LETTER K              EB  SMALL LETTER E WITH DIAERESIS\\n6C  SMALL LETTER L              EC  SMALL LETTER I WITH GRAVE\\n6D  SMALL LETTER M              ED  SMALL LETTER I WITH ACUTE\\n6E  SMALL LETTER N              EE  SMALL LETTER I WITH CIRCUMFLEX\\n6F  SMALL LETTER O              EF  SMALL LETTER I WITH DIAERESIS\\n70  SMALL LETTER P              F0  SMALL LETTER ETH (Icelandic)\\n71  SMALL LETTER Q              F1  SMALL LETTER N WITH TILDE\\n72  SMALL LETTER R              F2  SMALL LETTER O WITH GRAVE\\n73  SMALL LETTER S              F3  SMALL LETTER O WITH ACUTE\\n74  SMALL LETTER T              F4  SMALL LETTER O WITH CIRCUMFLEX\\n75  SMALL LETTER U              F5  SMALL LETTER O WITH TILDE\\n76  SMALL LETTER V              F6  SMALL LETTER O WITH DIAERESIS\\n77  SMALL LETTER W              F7  DIVISION SIGN\\n78  SMALL LETTER X              F8  SMALL LETTER O WITH STROKE\\n79  SMALL LETTER Y              F9  SMALL LETTER U WITH GRAVE\\n7A  SMALL LETTER Z              FA  SMALL LETTER U WITH ACUTE\\n7B  LEFT CURLY BRACKET          FB  SMALL LETTER U WITH CIRCUMFLEX\\n7C  VERTICAL LINE               FC  SMALL LETTER U WITH DIAERESIS\\n7D  RIGHT CURLY BRACKET         FD  SMALL LETTER Y WITH ACUTE\\n7E  TILDE                       FE  SMALL LETTER THORN (Icelandic)\\n                                FF  SMALL LETTER Y WITH DIAERESIS\\n\""
      ]
     },
     "execution_count": 6,
     "metadata": {},
     "output_type": "execute_result"
    }
   ],
   "source": [
    "# Read the file\n",
    "\n",
    "FileCont = file1.read()\n",
    "FileCont"
   ]
  },
  {
   "cell_type": "markdown",
   "id": "4a5c4cff-3e6f-4aa2-a6a5-23b9be955040",
   "metadata": {},
   "source": [
    "The **/n** means that there is a new line.\n"
   ]
  },
  {
   "cell_type": "markdown",
   "id": "0cfabb62-ef1e-4914-a8db-1b4b21b6ba7e",
   "metadata": {},
   "source": [
    "We can print the file:\n"
   ]
  },
  {
   "cell_type": "code",
   "execution_count": 7,
   "id": "b1d7193e-2c0b-4ac9-9d53-714633a8dc24",
   "metadata": {},
   "outputs": [
    {
     "name": "stdout",
     "output_type": "stream",
     "text": [
      "\n",
      "FileCont:\n",
      "The following are the graphical (non-control) characters defined by\n",
      "ISO 8859-1 (1987).  Descriptions in words aren't all that helpful,\n",
      "but they're the best we can do in text.  A graphics file illustrating\n",
      "the character set should be available from the same archive as this\n",
      "file.\n",
      "\n",
      "Hex Description                 Hex Description\n",
      "\n",
      "20  SPACE\n",
      "21  EXCLAMATION MARK            A1  INVERTED EXCLAMATION MARK\n",
      "22  QUOTATION MARK              A2  CENT SIGN\n",
      "23  NUMBER SIGN                 A3  POUND SIGN\n",
      "24  DOLLAR SIGN                 A4  CURRENCY SIGN\n",
      "25  PERCENT SIGN                A5  YEN SIGN\n",
      "26  AMPERSAND                   A6  BROKEN BAR\n",
      "27  APOSTROPHE                  A7  SECTION SIGN\n",
      "28  LEFT PARENTHESIS            A8  DIAERESIS\n",
      "29  RIGHT PARENTHESIS           A9  COPYRIGHT SIGN\n",
      "2A  ASTERISK                    AA  FEMININE ORDINAL INDICATOR\n",
      "2B  PLUS SIGN                   AB  LEFT-POINTING DOUBLE ANGLE QUOTATION MARK\n",
      "2C  COMMA                       AC  NOT SIGN\n",
      "2D  HYPHEN-MINUS                AD  SOFT HYPHEN\n",
      "2E  FULL STOP                   AE  REGISTERED SIGN\n",
      "2F  SOLIDUS                     AF  OVERLINE\n",
      "30  DIGIT ZERO                  B0  DEGREE SIGN\n",
      "31  DIGIT ONE                   B1  PLUS-MINUS SIGN\n",
      "32  DIGIT TWO                   B2  SUPERSCRIPT TWO\n",
      "33  DIGIT THREE                 B3  SUPERSCRIPT THREE\n",
      "34  DIGIT FOUR                  B4  ACUTE ACCENT\n",
      "35  DIGIT FIVE                  B5  MICRO SIGN\n",
      "36  DIGIT SIX                   B6  PILCROW SIGN\n",
      "37  DIGIT SEVEN                 B7  MIDDLE DOT\n",
      "38  DIGIT EIGHT                 B8  CEDILLA\n",
      "39  DIGIT NINE                  B9  SUPERSCRIPT ONE\n",
      "3A  COLON                       BA  MASCULINE ORDINAL INDICATOR\n",
      "3B  SEMICOLON                   BB  RIGHT-POINTING DOUBLE ANGLE QUOTATION MARK\n",
      "3C  LESS-THAN SIGN              BC  VULGAR FRACTION ONE QUARTER\n",
      "3D  EQUALS SIGN                 BD  VULGAR FRACTION ONE HALF\n",
      "3E  GREATER-THAN SIGN           BE  VULGAR FRACTION THREE QUARTERS\n",
      "3F  QUESTION MARK               BF  INVERTED QUESTION MARK\n",
      "40  COMMERCIAL AT               C0  CAPITAL LETTER A WITH GRAVE\n",
      "41  CAPITAL LETTER A            C1  CAPITAL LETTER A WITH ACUTE\n",
      "42  CAPITAL LETTER B            C2  CAPITAL LETTER A WITH CIRCUMFLEX\n",
      "43  CAPITAL LETTER C            C3  CAPITAL LETTER A WITH TILDE\n",
      "44  CAPITAL LETTER D            C4  CAPITAL LETTER A WITH DIAERESIS\n",
      "45  CAPITAL LETTER E            C5  CAPITAL LETTER A WITH RING ABOVE\n",
      "46  CAPITAL LETTER F            C6  CAPITAL LETTER AE\n",
      "47  CAPITAL LETTER G            C7  CAPITAL LETTER C WITH CEDILLA\n",
      "48  CAPITAL LETTER H            C8  CAPITAL LETTER E WITH GRAVE\n",
      "49  CAPITAL LETTER I            C9  CAPITAL LETTER E WITH ACUTE\n",
      "4A  CAPITAL LETTER J            CA  CAPITAL LETTER E WITH CIRCUMFLEX\n",
      "4B  CAPITAL LETTER K            CB  CAPITAL LETTER E WITH DIAERESIS\n",
      "4C  CAPITAL LETTER L            CC  CAPITAL LETTER I WITH GRAVE\n",
      "4D  CAPITAL LETTER M            CD  CAPITAL LETTER I WITH ACUTE\n",
      "4E  CAPITAL LETTER N            CE  CAPITAL LETTER I WITH CIRCUMFLEX\n",
      "4F  CAPITAL LETTER O            CF  CAPITAL LETTER I WITH DIAERESIS\n",
      "50  CAPITAL LETTER P            D0  CAPITAL LETTER ETH (Icelandic)\n",
      "51  CAPITAL LETTER Q            D1  CAPITAL LETTER N WITH TILDE\n",
      "52  CAPITAL LETTER R            D2  CAPITAL LETTER O WITH GRAVE\n",
      "53  CAPITAL LETTER S            D3  CAPITAL LETTER O WITH ACUTE\n",
      "54  CAPITAL LETTER T            D4  CAPITAL LETTER O WITH CIRCUMFLEX\n",
      "55  CAPITAL LETTER U            D5  CAPITAL LETTER O WITH TILDE\n",
      "56  CAPITAL LETTER V            D6  CAPITAL LETTER O WITH DIAERESIS\n",
      "57  CAPITAL LETTER W            D7  MULTIPLICATION SIGN\n",
      "58  CAPITAL LETTER X            D8  CAPITAL LETTER O WITH STROKE\n",
      "59  CAPITAL LETTER Y            D9  CAPITAL LETTER U WITH GRAVE\n",
      "5A  CAPITAL LETTER Z            DA  CAPITAL LETTER U WITH ACUTE\n",
      "5B  LEFT SQUARE BRACKET         DB  CAPITAL LETTER U WITH CIRCUMFLEX\n",
      "5C  REVERSE SOLIDUS             DC  CAPITAL LETTER U WITH DIAERESIS\n",
      "5D  RIGHT SQUARE BRACKET        DD  CAPITAL LETTER Y WITH ACUTE\n",
      "5E  CIRCUMFLEX ACCENT           DE  CAPITAL LETTER THORN (Icelandic)\n",
      "5F  LOW LINE                    DF  SMALL LETTER SHARP S (German)\n",
      "60  GRAVE ACCENT                E0  SMALL LETTER A WITH GRAVE\n",
      "61  SMALL LETTER A              E1  SMALL LETTER A WITH ACUTE\n",
      "62  SMALL LETTER B              E2  SMALL LETTER A WITH CIRCUMFLEX\n",
      "63  SMALL LETTER C              E3  SMALL LETTER A WITH TILDE\n",
      "64  SMALL LETTER D              E4  SMALL LETTER A WITH DIAERESIS\n",
      "65  SMALL LETTER E              E5  SMALL LETTER A WITH RING ABOVE\n",
      "66  SMALL LETTER F              E6  SMALL LETTER AE\n",
      "67  SMALL LETTER G              E7  SMALL LETTER C WITH CEDILLA\n",
      "68  SMALL LETTER H              E8  SMALL LETTER E WITH GRAVE\n",
      "69  SMALL LETTER I              E9  SMALL LETTER E WITH ACUTE\n",
      "6A  SMALL LETTER J              EA  SMALL LETTER E WITH CIRCUMFLEX\n",
      "6B  SMALL LETTER K              EB  SMALL LETTER E WITH DIAERESIS\n",
      "6C  SMALL LETTER L              EC  SMALL LETTER I WITH GRAVE\n",
      "6D  SMALL LETTER M              ED  SMALL LETTER I WITH ACUTE\n",
      "6E  SMALL LETTER N              EE  SMALL LETTER I WITH CIRCUMFLEX\n",
      "6F  SMALL LETTER O              EF  SMALL LETTER I WITH DIAERESIS\n",
      "70  SMALL LETTER P              F0  SMALL LETTER ETH (Icelandic)\n",
      "71  SMALL LETTER Q              F1  SMALL LETTER N WITH TILDE\n",
      "72  SMALL LETTER R              F2  SMALL LETTER O WITH GRAVE\n",
      "73  SMALL LETTER S              F3  SMALL LETTER O WITH ACUTE\n",
      "74  SMALL LETTER T              F4  SMALL LETTER O WITH CIRCUMFLEX\n",
      "75  SMALL LETTER U              F5  SMALL LETTER O WITH TILDE\n",
      "76  SMALL LETTER V              F6  SMALL LETTER O WITH DIAERESIS\n",
      "77  SMALL LETTER W              F7  DIVISION SIGN\n",
      "78  SMALL LETTER X              F8  SMALL LETTER O WITH STROKE\n",
      "79  SMALL LETTER Y              F9  SMALL LETTER U WITH GRAVE\n",
      "7A  SMALL LETTER Z              FA  SMALL LETTER U WITH ACUTE\n",
      "7B  LEFT CURLY BRACKET          FB  SMALL LETTER U WITH CIRCUMFLEX\n",
      "7C  VERTICAL LINE               FC  SMALL LETTER U WITH DIAERESIS\n",
      "7D  RIGHT CURLY BRACKET         FD  SMALL LETTER Y WITH ACUTE\n",
      "7E  TILDE                       FE  SMALL LETTER THORN (Icelandic)\n",
      "                                FF  SMALL LETTER Y WITH DIAERESIS\n",
      "\n",
      "\n",
      "FileCont Type: <class 'str'>\n"
     ]
    }
   ],
   "source": [
    "# Print the file with '\\n' as a new line\n",
    "\n",
    "print(f\"\\nFileCont:\\n{FileCont}\")\n",
    "print(f\"\\nFileCont Type: {type(FileCont)}\")"
   ]
  },
  {
   "cell_type": "markdown",
   "id": "824797a2-cdcc-4451-bca0-585e8b3b525f",
   "metadata": {},
   "source": [
    "The file is of type string:\n"
   ]
  },
  {
   "cell_type": "code",
   "execution_count": 8,
   "id": "de4fd068-e2b3-41ab-b4fc-7d24c80bd5d4",
   "metadata": {},
   "outputs": [
    {
     "data": {
      "text/plain": [
       "str"
      ]
     },
     "execution_count": 8,
     "metadata": {},
     "output_type": "execute_result"
    }
   ],
   "source": [
    "# Type of file content\n",
    "\n",
    "type(FileCont)"
   ]
  },
  {
   "cell_type": "markdown",
   "id": "ee13adc5-dacf-437d-9e7e-0f9950c86bb2",
   "metadata": {},
   "source": [
    "It is very important that the file is closed in the end. This frees up resources and ensures consistency across different python versions.\n"
   ]
  },
  {
   "cell_type": "code",
   "execution_count": 9,
   "id": "682b7b7d-ba43-4c74-9ff2-2946d840920a",
   "metadata": {},
   "outputs": [
    {
     "data": {
      "text/plain": [
       "True"
      ]
     },
     "execution_count": 9,
     "metadata": {},
     "output_type": "execute_result"
    }
   ],
   "source": [
    "# Close file after finish\n",
    "\n",
    "file1.close()\n",
    "file1.closed"
   ]
  },
  {
   "cell_type": "markdown",
   "id": "26b4b48a-eceb-4d79-9c42-7e559eb696c6",
   "metadata": {},
   "source": [
    "<hr>\n"
   ]
  },
  {
   "cell_type": "markdown",
   "id": "89331fb7-4f90-4f03-864a-a51bbfee0ea3",
   "metadata": {},
   "source": [
    "<h2 id=\"better\">A Better Way to Open a File</h2>\n"
   ]
  },
  {
   "cell_type": "markdown",
   "id": "c40f856c-f8a3-4298-9d36-b99e3537e9d5",
   "metadata": {},
   "source": [
    "Using the <code>with</code> statement is better practice, it automatically closes the file even if the code encounters an exception. The code will run everything in the indent block then close the file object.\n"
   ]
  },
  {
   "cell_type": "code",
   "execution_count": 10,
   "id": "c03b5026-3a83-4766-a58d-aff6042598df",
   "metadata": {},
   "outputs": [
    {
     "name": "stdout",
     "output_type": "stream",
     "text": [
      "The following are the graphical (non-control) characters defined by\n",
      "ISO 8859-1 (1987).  Descriptions in words aren't all that helpful,\n",
      "but they're the best we can do in text.  A graphics file illustrating\n",
      "the character set should be available from the same archive as this\n",
      "file.\n",
      "\n",
      "Hex Description                 Hex Description\n",
      "\n",
      "20  SPACE\n",
      "21  EXCLAMATION MARK            A1  INVERTED EXCLAMATION MARK\n",
      "22  QUOTATION MARK              A2  CENT SIGN\n",
      "23  NUMBER SIGN                 A3  POUND SIGN\n",
      "24  DOLLAR SIGN                 A4  CURRENCY SIGN\n",
      "25  PERCENT SIGN                A5  YEN SIGN\n",
      "26  AMPERSAND                   A6  BROKEN BAR\n",
      "27  APOSTROPHE                  A7  SECTION SIGN\n",
      "28  LEFT PARENTHESIS            A8  DIAERESIS\n",
      "29  RIGHT PARENTHESIS           A9  COPYRIGHT SIGN\n",
      "2A  ASTERISK                    AA  FEMININE ORDINAL INDICATOR\n",
      "2B  PLUS SIGN                   AB  LEFT-POINTING DOUBLE ANGLE QUOTATION MARK\n",
      "2C  COMMA                       AC  NOT SIGN\n",
      "2D  HYPHEN-MINUS                AD  SOFT HYPHEN\n",
      "2E  FULL STOP                   AE  REGISTERED SIGN\n",
      "2F  SOLIDUS                     AF  OVERLINE\n",
      "30  DIGIT ZERO                  B0  DEGREE SIGN\n",
      "31  DIGIT ONE                   B1  PLUS-MINUS SIGN\n",
      "32  DIGIT TWO                   B2  SUPERSCRIPT TWO\n",
      "33  DIGIT THREE                 B3  SUPERSCRIPT THREE\n",
      "34  DIGIT FOUR                  B4  ACUTE ACCENT\n",
      "35  DIGIT FIVE                  B5  MICRO SIGN\n",
      "36  DIGIT SIX                   B6  PILCROW SIGN\n",
      "37  DIGIT SEVEN                 B7  MIDDLE DOT\n",
      "38  DIGIT EIGHT                 B8  CEDILLA\n",
      "39  DIGIT NINE                  B9  SUPERSCRIPT ONE\n",
      "3A  COLON                       BA  MASCULINE ORDINAL INDICATOR\n",
      "3B  SEMICOLON                   BB  RIGHT-POINTING DOUBLE ANGLE QUOTATION MARK\n",
      "3C  LESS-THAN SIGN              BC  VULGAR FRACTION ONE QUARTER\n",
      "3D  EQUALS SIGN                 BD  VULGAR FRACTION ONE HALF\n",
      "3E  GREATER-THAN SIGN           BE  VULGAR FRACTION THREE QUARTERS\n",
      "3F  QUESTION MARK               BF  INVERTED QUESTION MARK\n",
      "40  COMMERCIAL AT               C0  CAPITAL LETTER A WITH GRAVE\n",
      "41  CAPITAL LETTER A            C1  CAPITAL LETTER A WITH ACUTE\n",
      "42  CAPITAL LETTER B            C2  CAPITAL LETTER A WITH CIRCUMFLEX\n",
      "43  CAPITAL LETTER C            C3  CAPITAL LETTER A WITH TILDE\n",
      "44  CAPITAL LETTER D            C4  CAPITAL LETTER A WITH DIAERESIS\n",
      "45  CAPITAL LETTER E            C5  CAPITAL LETTER A WITH RING ABOVE\n",
      "46  CAPITAL LETTER F            C6  CAPITAL LETTER AE\n",
      "47  CAPITAL LETTER G            C7  CAPITAL LETTER C WITH CEDILLA\n",
      "48  CAPITAL LETTER H            C8  CAPITAL LETTER E WITH GRAVE\n",
      "49  CAPITAL LETTER I            C9  CAPITAL LETTER E WITH ACUTE\n",
      "4A  CAPITAL LETTER J            CA  CAPITAL LETTER E WITH CIRCUMFLEX\n",
      "4B  CAPITAL LETTER K            CB  CAPITAL LETTER E WITH DIAERESIS\n",
      "4C  CAPITAL LETTER L            CC  CAPITAL LETTER I WITH GRAVE\n",
      "4D  CAPITAL LETTER M            CD  CAPITAL LETTER I WITH ACUTE\n",
      "4E  CAPITAL LETTER N            CE  CAPITAL LETTER I WITH CIRCUMFLEX\n",
      "4F  CAPITAL LETTER O            CF  CAPITAL LETTER I WITH DIAERESIS\n",
      "50  CAPITAL LETTER P            D0  CAPITAL LETTER ETH (Icelandic)\n",
      "51  CAPITAL LETTER Q            D1  CAPITAL LETTER N WITH TILDE\n",
      "52  CAPITAL LETTER R            D2  CAPITAL LETTER O WITH GRAVE\n",
      "53  CAPITAL LETTER S            D3  CAPITAL LETTER O WITH ACUTE\n",
      "54  CAPITAL LETTER T            D4  CAPITAL LETTER O WITH CIRCUMFLEX\n",
      "55  CAPITAL LETTER U            D5  CAPITAL LETTER O WITH TILDE\n",
      "56  CAPITAL LETTER V            D6  CAPITAL LETTER O WITH DIAERESIS\n",
      "57  CAPITAL LETTER W            D7  MULTIPLICATION SIGN\n",
      "58  CAPITAL LETTER X            D8  CAPITAL LETTER O WITH STROKE\n",
      "59  CAPITAL LETTER Y            D9  CAPITAL LETTER U WITH GRAVE\n",
      "5A  CAPITAL LETTER Z            DA  CAPITAL LETTER U WITH ACUTE\n",
      "5B  LEFT SQUARE BRACKET         DB  CAPITAL LETTER U WITH CIRCUMFLEX\n",
      "5C  REVERSE SOLIDUS             DC  CAPITAL LETTER U WITH DIAERESIS\n",
      "5D  RIGHT SQUARE BRACKET        DD  CAPITAL LETTER Y WITH ACUTE\n",
      "5E  CIRCUMFLEX ACCENT           DE  CAPITAL LETTER THORN (Icelandic)\n",
      "5F  LOW LINE                    DF  SMALL LETTER SHARP S (German)\n",
      "60  GRAVE ACCENT                E0  SMALL LETTER A WITH GRAVE\n",
      "61  SMALL LETTER A              E1  SMALL LETTER A WITH ACUTE\n",
      "62  SMALL LETTER B              E2  SMALL LETTER A WITH CIRCUMFLEX\n",
      "63  SMALL LETTER C              E3  SMALL LETTER A WITH TILDE\n",
      "64  SMALL LETTER D              E4  SMALL LETTER A WITH DIAERESIS\n",
      "65  SMALL LETTER E              E5  SMALL LETTER A WITH RING ABOVE\n",
      "66  SMALL LETTER F              E6  SMALL LETTER AE\n",
      "67  SMALL LETTER G              E7  SMALL LETTER C WITH CEDILLA\n",
      "68  SMALL LETTER H              E8  SMALL LETTER E WITH GRAVE\n",
      "69  SMALL LETTER I              E9  SMALL LETTER E WITH ACUTE\n",
      "6A  SMALL LETTER J              EA  SMALL LETTER E WITH CIRCUMFLEX\n",
      "6B  SMALL LETTER K              EB  SMALL LETTER E WITH DIAERESIS\n",
      "6C  SMALL LETTER L              EC  SMALL LETTER I WITH GRAVE\n",
      "6D  SMALL LETTER M              ED  SMALL LETTER I WITH ACUTE\n",
      "6E  SMALL LETTER N              EE  SMALL LETTER I WITH CIRCUMFLEX\n",
      "6F  SMALL LETTER O              EF  SMALL LETTER I WITH DIAERESIS\n",
      "70  SMALL LETTER P              F0  SMALL LETTER ETH (Icelandic)\n",
      "71  SMALL LETTER Q              F1  SMALL LETTER N WITH TILDE\n",
      "72  SMALL LETTER R              F2  SMALL LETTER O WITH GRAVE\n",
      "73  SMALL LETTER S              F3  SMALL LETTER O WITH ACUTE\n",
      "74  SMALL LETTER T              F4  SMALL LETTER O WITH CIRCUMFLEX\n",
      "75  SMALL LETTER U              F5  SMALL LETTER O WITH TILDE\n",
      "76  SMALL LETTER V              F6  SMALL LETTER O WITH DIAERESIS\n",
      "77  SMALL LETTER W              F7  DIVISION SIGN\n",
      "78  SMALL LETTER X              F8  SMALL LETTER O WITH STROKE\n",
      "79  SMALL LETTER Y              F9  SMALL LETTER U WITH GRAVE\n",
      "7A  SMALL LETTER Z              FA  SMALL LETTER U WITH ACUTE\n",
      "7B  LEFT CURLY BRACKET          FB  SMALL LETTER U WITH CIRCUMFLEX\n",
      "7C  VERTICAL LINE               FC  SMALL LETTER U WITH DIAERESIS\n",
      "7D  RIGHT CURLY BRACKET         FD  SMALL LETTER Y WITH ACUTE\n",
      "7E  TILDE                       FE  SMALL LETTER THORN (Icelandic)\n",
      "                                FF  SMALL LETTER Y WITH DIAERESIS\n",
      "\n"
     ]
    }
   ],
   "source": [
    "# Open file using with\n",
    "with open(example1, \"r\") as fileTest:\n",
    "    FileContent = fileTest.read()\n",
    "    print(FileContent)"
   ]
  },
  {
   "cell_type": "markdown",
   "id": "c2437bc7-0cb6-4bef-8629-41ad294de6b0",
   "metadata": {},
   "source": [
    "The file object is closed, you can verify it by running the following cell:\n"
   ]
  },
  {
   "cell_type": "code",
   "execution_count": 11,
   "id": "a703ef77-1e2e-4181-a7e3-b0b18dc9f78d",
   "metadata": {},
   "outputs": [
    {
     "data": {
      "text/plain": [
       "True"
      ]
     },
     "execution_count": 11,
     "metadata": {},
     "output_type": "execute_result"
    }
   ],
   "source": [
    "# Verify if the file is closed\n",
    "\n",
    "file1.closed"
   ]
  },
  {
   "cell_type": "markdown",
   "id": "53b05b9e-35b3-4cdc-9ea6-e2fba22b8f92",
   "metadata": {},
   "source": [
    "We can see the info in the file:\n"
   ]
  },
  {
   "cell_type": "code",
   "execution_count": 12,
   "id": "a6589116-8338-458d-bc66-5675f147aecc",
   "metadata": {},
   "outputs": [
    {
     "name": "stdout",
     "output_type": "stream",
     "text": [
      "The following are the graphical (non-control) characters defined by\n",
      "ISO 8859-1 (1987).  Descriptions in words aren't all that helpful,\n",
      "but they're the best we can do in text.  A graphics file illustrating\n",
      "the character set should be available from the same archive as this\n",
      "file.\n",
      "\n",
      "Hex Description                 Hex Description\n",
      "\n",
      "20  SPACE\n",
      "21  EXCLAMATION MARK            A1  INVERTED EXCLAMATION MARK\n",
      "22  QUOTATION MARK              A2  CENT SIGN\n",
      "23  NUMBER SIGN                 A3  POUND SIGN\n",
      "24  DOLLAR SIGN                 A4  CURRENCY SIGN\n",
      "25  PERCENT SIGN                A5  YEN SIGN\n",
      "26  AMPERSAND                   A6  BROKEN BAR\n",
      "27  APOSTROPHE                  A7  SECTION SIGN\n",
      "28  LEFT PARENTHESIS            A8  DIAERESIS\n",
      "29  RIGHT PARENTHESIS           A9  COPYRIGHT SIGN\n",
      "2A  ASTERISK                    AA  FEMININE ORDINAL INDICATOR\n",
      "2B  PLUS SIGN                   AB  LEFT-POINTING DOUBLE ANGLE QUOTATION MARK\n",
      "2C  COMMA                       AC  NOT SIGN\n",
      "2D  HYPHEN-MINUS                AD  SOFT HYPHEN\n",
      "2E  FULL STOP                   AE  REGISTERED SIGN\n",
      "2F  SOLIDUS                     AF  OVERLINE\n",
      "30  DIGIT ZERO                  B0  DEGREE SIGN\n",
      "31  DIGIT ONE                   B1  PLUS-MINUS SIGN\n",
      "32  DIGIT TWO                   B2  SUPERSCRIPT TWO\n",
      "33  DIGIT THREE                 B3  SUPERSCRIPT THREE\n",
      "34  DIGIT FOUR                  B4  ACUTE ACCENT\n",
      "35  DIGIT FIVE                  B5  MICRO SIGN\n",
      "36  DIGIT SIX                   B6  PILCROW SIGN\n",
      "37  DIGIT SEVEN                 B7  MIDDLE DOT\n",
      "38  DIGIT EIGHT                 B8  CEDILLA\n",
      "39  DIGIT NINE                  B9  SUPERSCRIPT ONE\n",
      "3A  COLON                       BA  MASCULINE ORDINAL INDICATOR\n",
      "3B  SEMICOLON                   BB  RIGHT-POINTING DOUBLE ANGLE QUOTATION MARK\n",
      "3C  LESS-THAN SIGN              BC  VULGAR FRACTION ONE QUARTER\n",
      "3D  EQUALS SIGN                 BD  VULGAR FRACTION ONE HALF\n",
      "3E  GREATER-THAN SIGN           BE  VULGAR FRACTION THREE QUARTERS\n",
      "3F  QUESTION MARK               BF  INVERTED QUESTION MARK\n",
      "40  COMMERCIAL AT               C0  CAPITAL LETTER A WITH GRAVE\n",
      "41  CAPITAL LETTER A            C1  CAPITAL LETTER A WITH ACUTE\n",
      "42  CAPITAL LETTER B            C2  CAPITAL LETTER A WITH CIRCUMFLEX\n",
      "43  CAPITAL LETTER C            C3  CAPITAL LETTER A WITH TILDE\n",
      "44  CAPITAL LETTER D            C4  CAPITAL LETTER A WITH DIAERESIS\n",
      "45  CAPITAL LETTER E            C5  CAPITAL LETTER A WITH RING ABOVE\n",
      "46  CAPITAL LETTER F            C6  CAPITAL LETTER AE\n",
      "47  CAPITAL LETTER G            C7  CAPITAL LETTER C WITH CEDILLA\n",
      "48  CAPITAL LETTER H            C8  CAPITAL LETTER E WITH GRAVE\n",
      "49  CAPITAL LETTER I            C9  CAPITAL LETTER E WITH ACUTE\n",
      "4A  CAPITAL LETTER J            CA  CAPITAL LETTER E WITH CIRCUMFLEX\n",
      "4B  CAPITAL LETTER K            CB  CAPITAL LETTER E WITH DIAERESIS\n",
      "4C  CAPITAL LETTER L            CC  CAPITAL LETTER I WITH GRAVE\n",
      "4D  CAPITAL LETTER M            CD  CAPITAL LETTER I WITH ACUTE\n",
      "4E  CAPITAL LETTER N            CE  CAPITAL LETTER I WITH CIRCUMFLEX\n",
      "4F  CAPITAL LETTER O            CF  CAPITAL LETTER I WITH DIAERESIS\n",
      "50  CAPITAL LETTER P            D0  CAPITAL LETTER ETH (Icelandic)\n",
      "51  CAPITAL LETTER Q            D1  CAPITAL LETTER N WITH TILDE\n",
      "52  CAPITAL LETTER R            D2  CAPITAL LETTER O WITH GRAVE\n",
      "53  CAPITAL LETTER S            D3  CAPITAL LETTER O WITH ACUTE\n",
      "54  CAPITAL LETTER T            D4  CAPITAL LETTER O WITH CIRCUMFLEX\n",
      "55  CAPITAL LETTER U            D5  CAPITAL LETTER O WITH TILDE\n",
      "56  CAPITAL LETTER V            D6  CAPITAL LETTER O WITH DIAERESIS\n",
      "57  CAPITAL LETTER W            D7  MULTIPLICATION SIGN\n",
      "58  CAPITAL LETTER X            D8  CAPITAL LETTER O WITH STROKE\n",
      "59  CAPITAL LETTER Y            D9  CAPITAL LETTER U WITH GRAVE\n",
      "5A  CAPITAL LETTER Z            DA  CAPITAL LETTER U WITH ACUTE\n",
      "5B  LEFT SQUARE BRACKET         DB  CAPITAL LETTER U WITH CIRCUMFLEX\n",
      "5C  REVERSE SOLIDUS             DC  CAPITAL LETTER U WITH DIAERESIS\n",
      "5D  RIGHT SQUARE BRACKET        DD  CAPITAL LETTER Y WITH ACUTE\n",
      "5E  CIRCUMFLEX ACCENT           DE  CAPITAL LETTER THORN (Icelandic)\n",
      "5F  LOW LINE                    DF  SMALL LETTER SHARP S (German)\n",
      "60  GRAVE ACCENT                E0  SMALL LETTER A WITH GRAVE\n",
      "61  SMALL LETTER A              E1  SMALL LETTER A WITH ACUTE\n",
      "62  SMALL LETTER B              E2  SMALL LETTER A WITH CIRCUMFLEX\n",
      "63  SMALL LETTER C              E3  SMALL LETTER A WITH TILDE\n",
      "64  SMALL LETTER D              E4  SMALL LETTER A WITH DIAERESIS\n",
      "65  SMALL LETTER E              E5  SMALL LETTER A WITH RING ABOVE\n",
      "66  SMALL LETTER F              E6  SMALL LETTER AE\n",
      "67  SMALL LETTER G              E7  SMALL LETTER C WITH CEDILLA\n",
      "68  SMALL LETTER H              E8  SMALL LETTER E WITH GRAVE\n",
      "69  SMALL LETTER I              E9  SMALL LETTER E WITH ACUTE\n",
      "6A  SMALL LETTER J              EA  SMALL LETTER E WITH CIRCUMFLEX\n",
      "6B  SMALL LETTER K              EB  SMALL LETTER E WITH DIAERESIS\n",
      "6C  SMALL LETTER L              EC  SMALL LETTER I WITH GRAVE\n",
      "6D  SMALL LETTER M              ED  SMALL LETTER I WITH ACUTE\n",
      "6E  SMALL LETTER N              EE  SMALL LETTER I WITH CIRCUMFLEX\n",
      "6F  SMALL LETTER O              EF  SMALL LETTER I WITH DIAERESIS\n",
      "70  SMALL LETTER P              F0  SMALL LETTER ETH (Icelandic)\n",
      "71  SMALL LETTER Q              F1  SMALL LETTER N WITH TILDE\n",
      "72  SMALL LETTER R              F2  SMALL LETTER O WITH GRAVE\n",
      "73  SMALL LETTER S              F3  SMALL LETTER O WITH ACUTE\n",
      "74  SMALL LETTER T              F4  SMALL LETTER O WITH CIRCUMFLEX\n",
      "75  SMALL LETTER U              F5  SMALL LETTER O WITH TILDE\n",
      "76  SMALL LETTER V              F6  SMALL LETTER O WITH DIAERESIS\n",
      "77  SMALL LETTER W              F7  DIVISION SIGN\n",
      "78  SMALL LETTER X              F8  SMALL LETTER O WITH STROKE\n",
      "79  SMALL LETTER Y              F9  SMALL LETTER U WITH GRAVE\n",
      "7A  SMALL LETTER Z              FA  SMALL LETTER U WITH ACUTE\n",
      "7B  LEFT CURLY BRACKET          FB  SMALL LETTER U WITH CIRCUMFLEX\n",
      "7C  VERTICAL LINE               FC  SMALL LETTER U WITH DIAERESIS\n",
      "7D  RIGHT CURLY BRACKET         FD  SMALL LETTER Y WITH ACUTE\n",
      "7E  TILDE                       FE  SMALL LETTER THORN (Icelandic)\n",
      "                                FF  SMALL LETTER Y WITH DIAERESIS\n",
      "\n"
     ]
    }
   ],
   "source": [
    "# See the content of file\n",
    "\n",
    "print(FileContent)"
   ]
  },
  {
   "cell_type": "markdown",
   "id": "6ad8b29c-af76-4c2a-8519-d5cfc062913f",
   "metadata": {},
   "source": [
    "The syntax is a little confusing as the file object is after the <code>as</code> statement. We also don’t explicitly close the file. Therefore we summarize the steps in a figure:\n"
   ]
  },
  {
   "cell_type": "markdown",
   "id": "360260a9-0e11-4746-a8fe-6fa79f76b479",
   "metadata": {},
   "source": [
    "<img src=\"https://cf-courses-data.s3.us.cloud-object-storage.appdomain.cloud/IBMDeveloperSkillsNetwork-PY0101EN-SkillsNetwork/labs/Module%204/images/ReadWith.png\" width=\"500\">\n"
   ]
  },
  {
   "cell_type": "markdown",
   "id": "83f49381-65e2-4240-aeed-826ea618246b",
   "metadata": {},
   "source": [
    "We don’t have to read the entire file, for example, we can read the first 4 characters by entering three as a parameter to the method **.read()**:\n"
   ]
  },
  {
   "cell_type": "code",
   "execution_count": 13,
   "id": "327c140b-cb9d-4c76-b476-dc4707656781",
   "metadata": {},
   "outputs": [
    {
     "name": "stdout",
     "output_type": "stream",
     "text": [
      "The \n"
     ]
    }
   ],
   "source": [
    "# Read first four characters\n",
    "\n",
    "with open(example1, \"r\") as file1:\n",
    "    print(file1.read(4))"
   ]
  },
  {
   "cell_type": "markdown",
   "id": "dd048ffb-6efd-4d64-8412-321e89e49cca",
   "metadata": {},
   "source": [
    "Once the method <code>.read(4)</code> is called the first 4 characters are called. If we call the method again, the next 4 characters are called. The output for the following cell will demonstrate the process for different inputs to the method <code>read()</code>:\n"
   ]
  },
  {
   "cell_type": "code",
   "execution_count": 14,
   "id": "3456ce15-0e27-45eb-8a34-644270bdcecd",
   "metadata": {},
   "outputs": [
    {
     "name": "stdout",
     "output_type": "stream",
     "text": [
      "This is line 1 \n",
      "This is line 2\n",
      "This is line 3\n"
     ]
    },
    {
     "name": "stderr",
     "output_type": "stream",
     "text": [
      "  % Total    % Received % Xferd  Average Speed   Time    Time     Time  Current\n",
      "                                 Dload  Upload   Total   Spent    Left  Speed\n",
      "\n",
      "  0     0    0     0    0     0      0      0 --:--:-- --:--:-- --:--:--     0curl: (6) Could not resolve host: example1.txt\n",
      "  % Total    % Received % Xferd  Average Speed   Time    Time     Time  Current\n",
      "                                 Dload  Upload   Total   Spent    Left  Speed\n",
      "\n",
      "  0     0    0     0    0     0      0      0 --:--:-- --:--:-- --:--:--     0\n",
      "  0     0    0     0    0     0      0      0 --:--:-- --:--:-- --:--:--     0\n",
      "100    45  100    45    0     0     37      0  0:00:01  0:00:01 --:--:--    37\n"
     ]
    }
   ],
   "source": [
    "# Read certain amount of characters\n",
    "import urllib.request\n",
    "url = 'https://cf-courses-data.s3.us.cloud-object-storage.appdomain.cloud/IBMDeveloperSkillsNetwork-PY0101EN-SkillsNetwork/labs/Module%204/data/example1.txt'\n",
    "filename3 = 'example3.txt'\n",
    "urllib.request.urlretrieve(url, filename3)\n",
    "\n",
    "## Download Example file\n",
    "!curl example1.txt https://cf-courses-data.s3.us.cloud-object-storage.appdomain.cloud/IBMDeveloperSkillsNetwork-PY0101EN-SkillsNetwork/labs/Module%204/data/example1.txt\n"
   ]
  },
  {
   "cell_type": "code",
   "execution_count": null,
   "metadata": {},
   "outputs": [],
   "source": []
  },
  {
   "cell_type": "markdown",
   "id": "9f138c48-ed56-4a3d-8b2a-a72d4124f56d",
   "metadata": {},
   "source": [
    "The process is illustrated in the below figure, and each color represents the part of the file read after the method <code>read()</code> is called:\n"
   ]
  },
  {
   "cell_type": "markdown",
   "id": "eba77809-b67e-4c80-8b05-1e45d1bbf25b",
   "metadata": {},
   "source": [
    "<img src=\"https://cf-courses-data.s3.us.cloud-object-storage.appdomain.cloud/IBMDeveloperSkillsNetwork-PY0101EN-SkillsNetwork/labs/Module%204/images/read.png\" width=\"500\">\n"
   ]
  },
  {
   "cell_type": "markdown",
   "id": "4501ae20-406b-4319-8d7f-92c3d11ab26f",
   "metadata": {},
   "source": [
    "Here is an example using the same file, but instead we read 16, 5, and then 9 characters at a time:\n"
   ]
  },
  {
   "cell_type": "code",
   "execution_count": 15,
   "id": "841b51ba-c9ca-4067-bc2f-a2876610c9bc",
   "metadata": {},
   "outputs": [
    {
     "name": "stdout",
     "output_type": "stream",
     "text": [
      "*Below is example3 and file3 related output:\n",
      "\n",
      "This is line 1 \n",
      "\n",
      "This \n",
      "is line 2\n",
      "\n",
      "*Below is example1 and file1 related output:\n",
      "\n",
      "The following ar\n",
      "e the\n",
      " graphica\n"
     ]
    }
   ],
   "source": [
    "# Read certain amount of characters\n",
    "print(f\"*Below is example3 and file3 related output:\\n\")\n",
    "\n",
    "example3 = 'example3.txt'\n",
    "with open(example3, \"r\") as file3:\n",
    "    # print(f\"{file1.read()}\\n\")\n",
    "    print(file3.read(16))\n",
    "    print(file3.read(5))\n",
    "    print(file3.read(9))\n",
    "\n",
    "print(f\"\\n*Below is example1 and file1 related output:\\n\")\n",
    "\n",
    "with open(example1, \"r\") as file1:\n",
    "    print(file1.read(16))\n",
    "    print(file1.read(5))\n",
    "    print(file1.read(9))"
   ]
  },
  {
   "cell_type": "markdown",
   "id": "624e1691-2d32-48d0-89f2-6479d4a4b903",
   "metadata": {},
   "source": [
    "We can also read one line of the file at a time using the method <code>readline()</code>:\n"
   ]
  },
  {
   "cell_type": "code",
   "execution_count": 16,
   "id": "78f61140-0e0c-48c7-a4bd-9d87acdf0fb0",
   "metadata": {},
   "outputs": [
    {
     "name": "stdout",
     "output_type": "stream",
     "text": [
      "Below with open(example1, r) as file1:\n",
      "\n",
      "1st line----> The following are the graphical (non-control) characters defined by\n",
      "\n",
      "2nd line----> ISO 8859-1 (1987).  Descriptions in words aren't all that helpful,\n",
      "\n",
      "3rd line----> but they're the best we can do in text.  A graphics file illustrating\n",
      "\n",
      "-----------------------------------------------\n",
      "\n",
      "Below with open(example3, r) as file3:\n",
      "\n",
      "1st line----> This is line 1 \n",
      "\n",
      "2nd line----> This is line 2\n",
      "\n",
      "3rd line----> This is line 3\n"
     ]
    }
   ],
   "source": [
    "# Read one line\n",
    "print(f\"Below with open(example1, r) as file1:\\n\")\n",
    "with open(example1, \"r\") as file1:\n",
    "    print(\"1st line----> \" + file1.readline())\n",
    "    print(\"2nd line----> \" + file1.readline())\n",
    "    print(\"3rd line----> \" + file1.readline())\n",
    "print(f\"-----------------------------------------------\\n\")\n",
    "print(f\"Below with open(example3, r) as file3:\\n\")\n",
    "with open(example3, \"r\") as file3:\n",
    "    print(\"1st line----> \" + file3.readline())\n",
    "    print(\"2nd line----> \" + file3.readline())\n",
    "    print(\"3rd line----> \" + file3.readline())"
   ]
  },
  {
   "cell_type": "markdown",
   "id": "0dd6259e-f535-46ee-bcad-29a05c393995",
   "metadata": {},
   "source": [
    "We can also pass an argument to <code> readline() </code> to specify the number of charecters we want to read. However, unlike <code> read()</code>, <code> readline()</code> can only read one line at most.\n"
   ]
  },
  {
   "cell_type": "code",
   "execution_count": 17,
   "id": "301abce5-7829-4552-bedc-24ec0e836ce8",
   "metadata": {},
   "outputs": [
    {
     "name": "stdout",
     "output_type": "stream",
     "text": [
      "The following are the graphical (non-control) characters defined by\n",
      "\n",
      "ISO 8859-1 (1987).  \n",
      "Descriptions in word\n"
     ]
    }
   ],
   "source": [
    "with open(example1, \"r\") as file1:\n",
    "    # reads the whole line \n",
    "    print(file1.readline()) \n",
    "    print(file1.read(20)) # Returns the next 20 chars\n",
    "    print(file1.readline(20)) # does not read past the end of line \n"
   ]
  },
  {
   "cell_type": "markdown",
   "id": "2f7e4172-a526-4937-a16b-d743614962d6",
   "metadata": {},
   "source": [
    "We can use a loop to iterate through each line:\n"
   ]
  },
  {
   "cell_type": "code",
   "execution_count": 18,
   "metadata": {},
   "outputs": [
    {
     "name": "stdout",
     "output_type": "stream",
     "text": [
      "Iteration 1 : This is line 1 \n",
      "\n",
      "Iteration 2 : This is line 2\n",
      "\n",
      "Iteration 3 : This is line 3\n"
     ]
    }
   ],
   "source": [
    "# Iterate through the lines\n",
    "\n",
    "with open(example3,\"r\") as file3:\n",
    "        i = 1;\n",
    "        for line in file3:\n",
    "            print(f\"Iteration {i} : {line}\")\n",
    "            i = i + 1"
   ]
  },
  {
   "cell_type": "code",
   "execution_count": 19,
   "id": "740559e0-2870-4a51-8566-d2695372d1cb",
   "metadata": {},
   "outputs": [
    {
     "name": "stdout",
     "output_type": "stream",
     "text": [
      "Iteration 0 :  The following are the graphical (non-control) characters defined by\n",
      "\n",
      "Iteration 1 :  ISO 8859-1 (1987).  Descriptions in words aren't all that helpful,\n",
      "\n",
      "Iteration 2 :  but they're the best we can do in text.  A graphics file illustrating\n",
      "\n",
      "Iteration 3 :  the character set should be available from the same archive as this\n",
      "\n",
      "Iteration 4 :  file.\n",
      "\n",
      "Iteration 5 :  \n",
      "\n",
      "Iteration 6 :  Hex Description                 Hex Description\n",
      "\n",
      "Iteration 7 :  \n",
      "\n",
      "Iteration 8 :  20  SPACE\n",
      "\n",
      "Iteration 9 :  21  EXCLAMATION MARK            A1  INVERTED EXCLAMATION MARK\n",
      "\n",
      "Iteration 10 :  22  QUOTATION MARK              A2  CENT SIGN\n",
      "\n",
      "Iteration 11 :  23  NUMBER SIGN                 A3  POUND SIGN\n",
      "\n",
      "Iteration 12 :  24  DOLLAR SIGN                 A4  CURRENCY SIGN\n",
      "\n",
      "Iteration 13 :  25  PERCENT SIGN                A5  YEN SIGN\n",
      "\n",
      "Iteration 14 :  26  AMPERSAND                   A6  BROKEN BAR\n",
      "\n",
      "Iteration 15 :  27  APOSTROPHE                  A7  SECTION SIGN\n",
      "\n",
      "Iteration 16 :  28  LEFT PARENTHESIS            A8  DIAERESIS\n",
      "\n",
      "Iteration 17 :  29  RIGHT PARENTHESIS           A9  COPYRIGHT SIGN\n",
      "\n",
      "Iteration 18 :  2A  ASTERISK                    AA  FEMININE ORDINAL INDICATOR\n",
      "\n",
      "Iteration 19 :  2B  PLUS SIGN                   AB  LEFT-POINTING DOUBLE ANGLE QUOTATION MARK\n",
      "\n",
      "Iteration 20 :  2C  COMMA                       AC  NOT SIGN\n",
      "\n",
      "Iteration 21 :  2D  HYPHEN-MINUS                AD  SOFT HYPHEN\n",
      "\n",
      "Iteration 22 :  2E  FULL STOP                   AE  REGISTERED SIGN\n",
      "\n",
      "Iteration 23 :  2F  SOLIDUS                     AF  OVERLINE\n",
      "\n",
      "Iteration 24 :  30  DIGIT ZERO                  B0  DEGREE SIGN\n",
      "\n",
      "Iteration 25 :  31  DIGIT ONE                   B1  PLUS-MINUS SIGN\n",
      "\n",
      "Iteration 26 :  32  DIGIT TWO                   B2  SUPERSCRIPT TWO\n",
      "\n",
      "Iteration 27 :  33  DIGIT THREE                 B3  SUPERSCRIPT THREE\n",
      "\n",
      "Iteration 28 :  34  DIGIT FOUR                  B4  ACUTE ACCENT\n",
      "\n",
      "Iteration 29 :  35  DIGIT FIVE                  B5  MICRO SIGN\n",
      "\n",
      "Iteration 30 :  36  DIGIT SIX                   B6  PILCROW SIGN\n",
      "\n",
      "Iteration 31 :  37  DIGIT SEVEN                 B7  MIDDLE DOT\n",
      "\n",
      "Iteration 32 :  38  DIGIT EIGHT                 B8  CEDILLA\n",
      "\n",
      "Iteration 33 :  39  DIGIT NINE                  B9  SUPERSCRIPT ONE\n",
      "\n",
      "Iteration 34 :  3A  COLON                       BA  MASCULINE ORDINAL INDICATOR\n",
      "\n",
      "Iteration 35 :  3B  SEMICOLON                   BB  RIGHT-POINTING DOUBLE ANGLE QUOTATION MARK\n",
      "\n",
      "Iteration 36 :  3C  LESS-THAN SIGN              BC  VULGAR FRACTION ONE QUARTER\n",
      "\n",
      "Iteration 37 :  3D  EQUALS SIGN                 BD  VULGAR FRACTION ONE HALF\n",
      "\n",
      "Iteration 38 :  3E  GREATER-THAN SIGN           BE  VULGAR FRACTION THREE QUARTERS\n",
      "\n",
      "Iteration 39 :  3F  QUESTION MARK               BF  INVERTED QUESTION MARK\n",
      "\n",
      "Iteration 40 :  40  COMMERCIAL AT               C0  CAPITAL LETTER A WITH GRAVE\n",
      "\n",
      "Iteration 41 :  41  CAPITAL LETTER A            C1  CAPITAL LETTER A WITH ACUTE\n",
      "\n",
      "Iteration 42 :  42  CAPITAL LETTER B            C2  CAPITAL LETTER A WITH CIRCUMFLEX\n",
      "\n",
      "Iteration 43 :  43  CAPITAL LETTER C            C3  CAPITAL LETTER A WITH TILDE\n",
      "\n",
      "Iteration 44 :  44  CAPITAL LETTER D            C4  CAPITAL LETTER A WITH DIAERESIS\n",
      "\n",
      "Iteration 45 :  45  CAPITAL LETTER E            C5  CAPITAL LETTER A WITH RING ABOVE\n",
      "\n",
      "Iteration 46 :  46  CAPITAL LETTER F            C6  CAPITAL LETTER AE\n",
      "\n",
      "Iteration 47 :  47  CAPITAL LETTER G            C7  CAPITAL LETTER C WITH CEDILLA\n",
      "\n",
      "Iteration 48 :  48  CAPITAL LETTER H            C8  CAPITAL LETTER E WITH GRAVE\n",
      "\n",
      "Iteration 49 :  49  CAPITAL LETTER I            C9  CAPITAL LETTER E WITH ACUTE\n",
      "\n",
      "Iteration 50 :  4A  CAPITAL LETTER J            CA  CAPITAL LETTER E WITH CIRCUMFLEX\n",
      "\n",
      "Iteration 51 :  4B  CAPITAL LETTER K            CB  CAPITAL LETTER E WITH DIAERESIS\n",
      "\n",
      "Iteration 52 :  4C  CAPITAL LETTER L            CC  CAPITAL LETTER I WITH GRAVE\n",
      "\n",
      "Iteration 53 :  4D  CAPITAL LETTER M            CD  CAPITAL LETTER I WITH ACUTE\n",
      "\n",
      "Iteration 54 :  4E  CAPITAL LETTER N            CE  CAPITAL LETTER I WITH CIRCUMFLEX\n",
      "\n",
      "Iteration 55 :  4F  CAPITAL LETTER O            CF  CAPITAL LETTER I WITH DIAERESIS\n",
      "\n",
      "Iteration 56 :  50  CAPITAL LETTER P            D0  CAPITAL LETTER ETH (Icelandic)\n",
      "\n",
      "Iteration 57 :  51  CAPITAL LETTER Q            D1  CAPITAL LETTER N WITH TILDE\n",
      "\n",
      "Iteration 58 :  52  CAPITAL LETTER R            D2  CAPITAL LETTER O WITH GRAVE\n",
      "\n",
      "Iteration 59 :  53  CAPITAL LETTER S            D3  CAPITAL LETTER O WITH ACUTE\n",
      "\n",
      "Iteration 60 :  54  CAPITAL LETTER T            D4  CAPITAL LETTER O WITH CIRCUMFLEX\n",
      "\n",
      "Iteration 61 :  55  CAPITAL LETTER U            D5  CAPITAL LETTER O WITH TILDE\n",
      "\n",
      "Iteration 62 :  56  CAPITAL LETTER V            D6  CAPITAL LETTER O WITH DIAERESIS\n",
      "\n",
      "Iteration 63 :  57  CAPITAL LETTER W            D7  MULTIPLICATION SIGN\n",
      "\n",
      "Iteration 64 :  58  CAPITAL LETTER X            D8  CAPITAL LETTER O WITH STROKE\n",
      "\n",
      "Iteration 65 :  59  CAPITAL LETTER Y            D9  CAPITAL LETTER U WITH GRAVE\n",
      "\n",
      "Iteration 66 :  5A  CAPITAL LETTER Z            DA  CAPITAL LETTER U WITH ACUTE\n",
      "\n",
      "Iteration 67 :  5B  LEFT SQUARE BRACKET         DB  CAPITAL LETTER U WITH CIRCUMFLEX\n",
      "\n",
      "Iteration 68 :  5C  REVERSE SOLIDUS             DC  CAPITAL LETTER U WITH DIAERESIS\n",
      "\n",
      "Iteration 69 :  5D  RIGHT SQUARE BRACKET        DD  CAPITAL LETTER Y WITH ACUTE\n",
      "\n",
      "Iteration 70 :  5E  CIRCUMFLEX ACCENT           DE  CAPITAL LETTER THORN (Icelandic)\n",
      "\n",
      "Iteration 71 :  5F  LOW LINE                    DF  SMALL LETTER SHARP S (German)\n",
      "\n",
      "Iteration 72 :  60  GRAVE ACCENT                E0  SMALL LETTER A WITH GRAVE\n",
      "\n",
      "Iteration 73 :  61  SMALL LETTER A              E1  SMALL LETTER A WITH ACUTE\n",
      "\n",
      "Iteration 74 :  62  SMALL LETTER B              E2  SMALL LETTER A WITH CIRCUMFLEX\n",
      "\n",
      "Iteration 75 :  63  SMALL LETTER C              E3  SMALL LETTER A WITH TILDE\n",
      "\n",
      "Iteration 76 :  64  SMALL LETTER D              E4  SMALL LETTER A WITH DIAERESIS\n",
      "\n",
      "Iteration 77 :  65  SMALL LETTER E              E5  SMALL LETTER A WITH RING ABOVE\n",
      "\n",
      "Iteration 78 :  66  SMALL LETTER F              E6  SMALL LETTER AE\n",
      "\n",
      "Iteration 79 :  67  SMALL LETTER G              E7  SMALL LETTER C WITH CEDILLA\n",
      "\n",
      "Iteration 80 :  68  SMALL LETTER H              E8  SMALL LETTER E WITH GRAVE\n",
      "\n",
      "Iteration 81 :  69  SMALL LETTER I              E9  SMALL LETTER E WITH ACUTE\n",
      "\n",
      "Iteration 82 :  6A  SMALL LETTER J              EA  SMALL LETTER E WITH CIRCUMFLEX\n",
      "\n",
      "Iteration 83 :  6B  SMALL LETTER K              EB  SMALL LETTER E WITH DIAERESIS\n",
      "\n",
      "Iteration 84 :  6C  SMALL LETTER L              EC  SMALL LETTER I WITH GRAVE\n",
      "\n",
      "Iteration 85 :  6D  SMALL LETTER M              ED  SMALL LETTER I WITH ACUTE\n",
      "\n",
      "Iteration 86 :  6E  SMALL LETTER N              EE  SMALL LETTER I WITH CIRCUMFLEX\n",
      "\n",
      "Iteration 87 :  6F  SMALL LETTER O              EF  SMALL LETTER I WITH DIAERESIS\n",
      "\n",
      "Iteration 88 :  70  SMALL LETTER P              F0  SMALL LETTER ETH (Icelandic)\n",
      "\n",
      "Iteration 89 :  71  SMALL LETTER Q              F1  SMALL LETTER N WITH TILDE\n",
      "\n",
      "Iteration 90 :  72  SMALL LETTER R              F2  SMALL LETTER O WITH GRAVE\n",
      "\n",
      "Iteration 91 :  73  SMALL LETTER S              F3  SMALL LETTER O WITH ACUTE\n",
      "\n",
      "Iteration 92 :  74  SMALL LETTER T              F4  SMALL LETTER O WITH CIRCUMFLEX\n",
      "\n",
      "Iteration 93 :  75  SMALL LETTER U              F5  SMALL LETTER O WITH TILDE\n",
      "\n",
      "Iteration 94 :  76  SMALL LETTER V              F6  SMALL LETTER O WITH DIAERESIS\n",
      "\n",
      "Iteration 95 :  77  SMALL LETTER W              F7  DIVISION SIGN\n",
      "\n",
      "Iteration 96 :  78  SMALL LETTER X              F8  SMALL LETTER O WITH STROKE\n",
      "\n",
      "Iteration 97 :  79  SMALL LETTER Y              F9  SMALL LETTER U WITH GRAVE\n",
      "\n",
      "Iteration 98 :  7A  SMALL LETTER Z              FA  SMALL LETTER U WITH ACUTE\n",
      "\n",
      "Iteration 99 :  7B  LEFT CURLY BRACKET          FB  SMALL LETTER U WITH CIRCUMFLEX\n",
      "\n",
      "Iteration 100 :  7C  VERTICAL LINE               FC  SMALL LETTER U WITH DIAERESIS\n",
      "\n",
      "Iteration 101 :  7D  RIGHT CURLY BRACKET         FD  SMALL LETTER Y WITH ACUTE\n",
      "\n",
      "Iteration 102 :  7E  TILDE                       FE  SMALL LETTER THORN (Icelandic)\n",
      "\n",
      "Iteration 103 :                                  FF  SMALL LETTER Y WITH DIAERESIS\n",
      "\n"
     ]
    }
   ],
   "source": [
    "# Iterate through the lines\n",
    "\n",
    "with open(example1,\"r\") as file1:\n",
    "        i = 0;\n",
    "        for line in file1:\n",
    "            print(\"Iteration\", str(i), \": \", line)\n",
    "            i = i + 1"
   ]
  },
  {
   "cell_type": "code",
   "execution_count": 20,
   "metadata": {},
   "outputs": [
    {
     "name": "stdout",
     "output_type": "stream",
     "text": [
      "Iteration 1 : The following are the graphical (non-control) characters defined by\n",
      "\n",
      "Iteration 2 : ISO 8859-1 (1987).  Descriptions in words aren't all that helpful,\n",
      "\n",
      "Iteration 3 : but they're the best we can do in text.  A graphics file illustrating\n",
      "\n",
      "Iteration 4 : the character set should be available from the same archive as this\n",
      "\n",
      "Iteration 5 : file.\n",
      "\n",
      "Iteration 6 : \n",
      "\n",
      "Iteration 7 : Hex Description                 Hex Description\n",
      "\n",
      "Iteration 8 : \n",
      "\n",
      "Iteration 9 : 20  SPACE\n",
      "\n",
      "Iteration 10 : 21  EXCLAMATION MARK            A1  INVERTED EXCLAMATION MARK\n",
      "\n",
      "Iteration 11 : 22  QUOTATION MARK              A2  CENT SIGN\n",
      "\n",
      "Iteration 12 : 23  NUMBER SIGN                 A3  POUND SIGN\n",
      "\n",
      "Iteration 13 : 24  DOLLAR SIGN                 A4  CURRENCY SIGN\n",
      "\n",
      "Iteration 14 : 25  PERCENT SIGN                A5  YEN SIGN\n",
      "\n",
      "Iteration 15 : 26  AMPERSAND                   A6  BROKEN BAR\n",
      "\n",
      "Iteration 16 : 27  APOSTROPHE                  A7  SECTION SIGN\n",
      "\n",
      "Iteration 17 : 28  LEFT PARENTHESIS            A8  DIAERESIS\n",
      "\n",
      "Iteration 18 : 29  RIGHT PARENTHESIS           A9  COPYRIGHT SIGN\n",
      "\n",
      "Iteration 19 : 2A  ASTERISK                    AA  FEMININE ORDINAL INDICATOR\n",
      "\n",
      "Iteration 20 : 2B  PLUS SIGN                   AB  LEFT-POINTING DOUBLE ANGLE QUOTATION MARK\n",
      "\n",
      "Iteration 21 : 2C  COMMA                       AC  NOT SIGN\n",
      "\n",
      "Iteration 22 : 2D  HYPHEN-MINUS                AD  SOFT HYPHEN\n",
      "\n",
      "Iteration 23 : 2E  FULL STOP                   AE  REGISTERED SIGN\n",
      "\n",
      "Iteration 24 : 2F  SOLIDUS                     AF  OVERLINE\n",
      "\n",
      "Iteration 25 : 30  DIGIT ZERO                  B0  DEGREE SIGN\n",
      "\n",
      "Iteration 26 : 31  DIGIT ONE                   B1  PLUS-MINUS SIGN\n",
      "\n",
      "Iteration 27 : 32  DIGIT TWO                   B2  SUPERSCRIPT TWO\n",
      "\n",
      "Iteration 28 : 33  DIGIT THREE                 B3  SUPERSCRIPT THREE\n",
      "\n",
      "Iteration 29 : 34  DIGIT FOUR                  B4  ACUTE ACCENT\n",
      "\n",
      "Iteration 30 : 35  DIGIT FIVE                  B5  MICRO SIGN\n",
      "\n",
      "Iteration 31 : 36  DIGIT SIX                   B6  PILCROW SIGN\n",
      "\n",
      "Iteration 32 : 37  DIGIT SEVEN                 B7  MIDDLE DOT\n",
      "\n",
      "Iteration 33 : 38  DIGIT EIGHT                 B8  CEDILLA\n",
      "\n",
      "Iteration 34 : 39  DIGIT NINE                  B9  SUPERSCRIPT ONE\n",
      "\n",
      "Iteration 35 : 3A  COLON                       BA  MASCULINE ORDINAL INDICATOR\n",
      "\n",
      "Iteration 36 : 3B  SEMICOLON                   BB  RIGHT-POINTING DOUBLE ANGLE QUOTATION MARK\n",
      "\n",
      "Iteration 37 : 3C  LESS-THAN SIGN              BC  VULGAR FRACTION ONE QUARTER\n",
      "\n",
      "Iteration 38 : 3D  EQUALS SIGN                 BD  VULGAR FRACTION ONE HALF\n",
      "\n",
      "Iteration 39 : 3E  GREATER-THAN SIGN           BE  VULGAR FRACTION THREE QUARTERS\n",
      "\n",
      "Iteration 40 : 3F  QUESTION MARK               BF  INVERTED QUESTION MARK\n",
      "\n",
      "Iteration 41 : 40  COMMERCIAL AT               C0  CAPITAL LETTER A WITH GRAVE\n",
      "\n",
      "Iteration 42 : 41  CAPITAL LETTER A            C1  CAPITAL LETTER A WITH ACUTE\n",
      "\n",
      "Iteration 43 : 42  CAPITAL LETTER B            C2  CAPITAL LETTER A WITH CIRCUMFLEX\n",
      "\n",
      "Iteration 44 : 43  CAPITAL LETTER C            C3  CAPITAL LETTER A WITH TILDE\n",
      "\n",
      "Iteration 45 : 44  CAPITAL LETTER D            C4  CAPITAL LETTER A WITH DIAERESIS\n",
      "\n",
      "Iteration 46 : 45  CAPITAL LETTER E            C5  CAPITAL LETTER A WITH RING ABOVE\n",
      "\n",
      "Iteration 47 : 46  CAPITAL LETTER F            C6  CAPITAL LETTER AE\n",
      "\n",
      "Iteration 48 : 47  CAPITAL LETTER G            C7  CAPITAL LETTER C WITH CEDILLA\n",
      "\n",
      "Iteration 49 : 48  CAPITAL LETTER H            C8  CAPITAL LETTER E WITH GRAVE\n",
      "\n",
      "Iteration 50 : 49  CAPITAL LETTER I            C9  CAPITAL LETTER E WITH ACUTE\n",
      "\n",
      "Iteration 51 : 4A  CAPITAL LETTER J            CA  CAPITAL LETTER E WITH CIRCUMFLEX\n",
      "\n",
      "Iteration 52 : 4B  CAPITAL LETTER K            CB  CAPITAL LETTER E WITH DIAERESIS\n",
      "\n",
      "Iteration 53 : 4C  CAPITAL LETTER L            CC  CAPITAL LETTER I WITH GRAVE\n",
      "\n",
      "Iteration 54 : 4D  CAPITAL LETTER M            CD  CAPITAL LETTER I WITH ACUTE\n",
      "\n",
      "Iteration 55 : 4E  CAPITAL LETTER N            CE  CAPITAL LETTER I WITH CIRCUMFLEX\n",
      "\n",
      "Iteration 56 : 4F  CAPITAL LETTER O            CF  CAPITAL LETTER I WITH DIAERESIS\n",
      "\n",
      "Iteration 57 : 50  CAPITAL LETTER P            D0  CAPITAL LETTER ETH (Icelandic)\n",
      "\n",
      "Iteration 58 : 51  CAPITAL LETTER Q            D1  CAPITAL LETTER N WITH TILDE\n",
      "\n",
      "Iteration 59 : 52  CAPITAL LETTER R            D2  CAPITAL LETTER O WITH GRAVE\n",
      "\n",
      "Iteration 60 : 53  CAPITAL LETTER S            D3  CAPITAL LETTER O WITH ACUTE\n",
      "\n",
      "Iteration 61 : 54  CAPITAL LETTER T            D4  CAPITAL LETTER O WITH CIRCUMFLEX\n",
      "\n",
      "Iteration 62 : 55  CAPITAL LETTER U            D5  CAPITAL LETTER O WITH TILDE\n",
      "\n",
      "Iteration 63 : 56  CAPITAL LETTER V            D6  CAPITAL LETTER O WITH DIAERESIS\n",
      "\n",
      "Iteration 64 : 57  CAPITAL LETTER W            D7  MULTIPLICATION SIGN\n",
      "\n",
      "Iteration 65 : 58  CAPITAL LETTER X            D8  CAPITAL LETTER O WITH STROKE\n",
      "\n",
      "Iteration 66 : 59  CAPITAL LETTER Y            D9  CAPITAL LETTER U WITH GRAVE\n",
      "\n",
      "Iteration 67 : 5A  CAPITAL LETTER Z            DA  CAPITAL LETTER U WITH ACUTE\n",
      "\n",
      "Iteration 68 : 5B  LEFT SQUARE BRACKET         DB  CAPITAL LETTER U WITH CIRCUMFLEX\n",
      "\n",
      "Iteration 69 : 5C  REVERSE SOLIDUS             DC  CAPITAL LETTER U WITH DIAERESIS\n",
      "\n",
      "Iteration 70 : 5D  RIGHT SQUARE BRACKET        DD  CAPITAL LETTER Y WITH ACUTE\n",
      "\n",
      "Iteration 71 : 5E  CIRCUMFLEX ACCENT           DE  CAPITAL LETTER THORN (Icelandic)\n",
      "\n",
      "Iteration 72 : 5F  LOW LINE                    DF  SMALL LETTER SHARP S (German)\n",
      "\n",
      "Iteration 73 : 60  GRAVE ACCENT                E0  SMALL LETTER A WITH GRAVE\n",
      "\n",
      "Iteration 74 : 61  SMALL LETTER A              E1  SMALL LETTER A WITH ACUTE\n",
      "\n",
      "Iteration 75 : 62  SMALL LETTER B              E2  SMALL LETTER A WITH CIRCUMFLEX\n",
      "\n",
      "Iteration 76 : 63  SMALL LETTER C              E3  SMALL LETTER A WITH TILDE\n",
      "\n",
      "Iteration 77 : 64  SMALL LETTER D              E4  SMALL LETTER A WITH DIAERESIS\n",
      "\n",
      "Iteration 78 : 65  SMALL LETTER E              E5  SMALL LETTER A WITH RING ABOVE\n",
      "\n",
      "Iteration 79 : 66  SMALL LETTER F              E6  SMALL LETTER AE\n",
      "\n",
      "Iteration 80 : 67  SMALL LETTER G              E7  SMALL LETTER C WITH CEDILLA\n",
      "\n",
      "Iteration 81 : 68  SMALL LETTER H              E8  SMALL LETTER E WITH GRAVE\n",
      "\n",
      "Iteration 82 : 69  SMALL LETTER I              E9  SMALL LETTER E WITH ACUTE\n",
      "\n",
      "Iteration 83 : 6A  SMALL LETTER J              EA  SMALL LETTER E WITH CIRCUMFLEX\n",
      "\n",
      "Iteration 84 : 6B  SMALL LETTER K              EB  SMALL LETTER E WITH DIAERESIS\n",
      "\n",
      "Iteration 85 : 6C  SMALL LETTER L              EC  SMALL LETTER I WITH GRAVE\n",
      "\n",
      "Iteration 86 : 6D  SMALL LETTER M              ED  SMALL LETTER I WITH ACUTE\n",
      "\n",
      "Iteration 87 : 6E  SMALL LETTER N              EE  SMALL LETTER I WITH CIRCUMFLEX\n",
      "\n",
      "Iteration 88 : 6F  SMALL LETTER O              EF  SMALL LETTER I WITH DIAERESIS\n",
      "\n",
      "Iteration 89 : 70  SMALL LETTER P              F0  SMALL LETTER ETH (Icelandic)\n",
      "\n",
      "Iteration 90 : 71  SMALL LETTER Q              F1  SMALL LETTER N WITH TILDE\n",
      "\n",
      "Iteration 91 : 72  SMALL LETTER R              F2  SMALL LETTER O WITH GRAVE\n",
      "\n",
      "Iteration 92 : 73  SMALL LETTER S              F3  SMALL LETTER O WITH ACUTE\n",
      "\n",
      "Iteration 93 : 74  SMALL LETTER T              F4  SMALL LETTER O WITH CIRCUMFLEX\n",
      "\n",
      "Iteration 94 : 75  SMALL LETTER U              F5  SMALL LETTER O WITH TILDE\n",
      "\n",
      "Iteration 95 : 76  SMALL LETTER V              F6  SMALL LETTER O WITH DIAERESIS\n",
      "\n",
      "Iteration 96 : 77  SMALL LETTER W              F7  DIVISION SIGN\n",
      "\n",
      "Iteration 97 : 78  SMALL LETTER X              F8  SMALL LETTER O WITH STROKE\n",
      "\n",
      "Iteration 98 : 79  SMALL LETTER Y              F9  SMALL LETTER U WITH GRAVE\n",
      "\n",
      "Iteration 99 : 7A  SMALL LETTER Z              FA  SMALL LETTER U WITH ACUTE\n",
      "\n",
      "Iteration 100 : 7B  LEFT CURLY BRACKET          FB  SMALL LETTER U WITH CIRCUMFLEX\n",
      "\n",
      "Iteration 101 : 7C  VERTICAL LINE               FC  SMALL LETTER U WITH DIAERESIS\n",
      "\n",
      "Iteration 102 : 7D  RIGHT CURLY BRACKET         FD  SMALL LETTER Y WITH ACUTE\n",
      "\n",
      "Iteration 103 : 7E  TILDE                       FE  SMALL LETTER THORN (Icelandic)\n",
      "\n",
      "Iteration 104 :                                 FF  SMALL LETTER Y WITH DIAERESIS\n",
      "\n"
     ]
    }
   ],
   "source": [
    "# by using WHILE LOOP\n",
    "\n",
    "with open(example1, \"r\") as f:\n",
    "    i = 1\n",
    "    while True:\n",
    "        line = f.readline()\n",
    "        if not line:\n",
    "            break\n",
    "        print(f\"Iteration {str(i)} : {line}\")\n",
    "        i = i+1\n"
   ]
  },
  {
   "cell_type": "markdown",
   "id": "8f7cd1f4-96d1-4fc6-b2b2-5cd2e4793b42",
   "metadata": {},
   "source": [
    "We can use the method <code>readlines()</code> to save the text file to a list:\n"
   ]
  },
  {
   "cell_type": "code",
   "execution_count": 21,
   "id": "03442f5c-6051-49ea-aeef-6bbf26c5a096",
   "metadata": {},
   "outputs": [
    {
     "name": "stdout",
     "output_type": "stream",
     "text": [
      "['This is line 1 \\n', 'This is line 2\\n', 'This is line 3']\n"
     ]
    }
   ],
   "source": [
    "# Read all lines and save as a list\n",
    "\n",
    "with open(example3, \"r\") as file3:\n",
    "    FileasList3 = file3.readlines()\n",
    "    print(FileasList3)\n",
    "\n"
   ]
  },
  {
   "cell_type": "code",
   "execution_count": 22,
   "metadata": {},
   "outputs": [
    {
     "name": "stdout",
     "output_type": "stream",
     "text": [
      "['The following are the graphical (non-control) characters defined by\\n', \"ISO 8859-1 (1987).  Descriptions in words aren't all that helpful,\\n\", \"but they're the best we can do in text.  A graphics file illustrating\\n\", 'the character set should be available from the same archive as this\\n', 'file.\\n', '\\n', 'Hex Description                 Hex Description\\n', '\\n', '20  SPACE\\n', '21  EXCLAMATION MARK            A1  INVERTED EXCLAMATION MARK\\n', '22  QUOTATION MARK              A2  CENT SIGN\\n', '23  NUMBER SIGN                 A3  POUND SIGN\\n', '24  DOLLAR SIGN                 A4  CURRENCY SIGN\\n', '25  PERCENT SIGN                A5  YEN SIGN\\n', '26  AMPERSAND                   A6  BROKEN BAR\\n', '27  APOSTROPHE                  A7  SECTION SIGN\\n', '28  LEFT PARENTHESIS            A8  DIAERESIS\\n', '29  RIGHT PARENTHESIS           A9  COPYRIGHT SIGN\\n', '2A  ASTERISK                    AA  FEMININE ORDINAL INDICATOR\\n', '2B  PLUS SIGN                   AB  LEFT-POINTING DOUBLE ANGLE QUOTATION MARK\\n', '2C  COMMA                       AC  NOT SIGN\\n', '2D  HYPHEN-MINUS                AD  SOFT HYPHEN\\n', '2E  FULL STOP                   AE  REGISTERED SIGN\\n', '2F  SOLIDUS                     AF  OVERLINE\\n', '30  DIGIT ZERO                  B0  DEGREE SIGN\\n', '31  DIGIT ONE                   B1  PLUS-MINUS SIGN\\n', '32  DIGIT TWO                   B2  SUPERSCRIPT TWO\\n', '33  DIGIT THREE                 B3  SUPERSCRIPT THREE\\n', '34  DIGIT FOUR                  B4  ACUTE ACCENT\\n', '35  DIGIT FIVE                  B5  MICRO SIGN\\n', '36  DIGIT SIX                   B6  PILCROW SIGN\\n', '37  DIGIT SEVEN                 B7  MIDDLE DOT\\n', '38  DIGIT EIGHT                 B8  CEDILLA\\n', '39  DIGIT NINE                  B9  SUPERSCRIPT ONE\\n', '3A  COLON                       BA  MASCULINE ORDINAL INDICATOR\\n', '3B  SEMICOLON                   BB  RIGHT-POINTING DOUBLE ANGLE QUOTATION MARK\\n', '3C  LESS-THAN SIGN              BC  VULGAR FRACTION ONE QUARTER\\n', '3D  EQUALS SIGN                 BD  VULGAR FRACTION ONE HALF\\n', '3E  GREATER-THAN SIGN           BE  VULGAR FRACTION THREE QUARTERS\\n', '3F  QUESTION MARK               BF  INVERTED QUESTION MARK\\n', '40  COMMERCIAL AT               C0  CAPITAL LETTER A WITH GRAVE\\n', '41  CAPITAL LETTER A            C1  CAPITAL LETTER A WITH ACUTE\\n', '42  CAPITAL LETTER B            C2  CAPITAL LETTER A WITH CIRCUMFLEX\\n', '43  CAPITAL LETTER C            C3  CAPITAL LETTER A WITH TILDE\\n', '44  CAPITAL LETTER D            C4  CAPITAL LETTER A WITH DIAERESIS\\n', '45  CAPITAL LETTER E            C5  CAPITAL LETTER A WITH RING ABOVE\\n', '46  CAPITAL LETTER F            C6  CAPITAL LETTER AE\\n', '47  CAPITAL LETTER G            C7  CAPITAL LETTER C WITH CEDILLA\\n', '48  CAPITAL LETTER H            C8  CAPITAL LETTER E WITH GRAVE\\n', '49  CAPITAL LETTER I            C9  CAPITAL LETTER E WITH ACUTE\\n', '4A  CAPITAL LETTER J            CA  CAPITAL LETTER E WITH CIRCUMFLEX\\n', '4B  CAPITAL LETTER K            CB  CAPITAL LETTER E WITH DIAERESIS\\n', '4C  CAPITAL LETTER L            CC  CAPITAL LETTER I WITH GRAVE\\n', '4D  CAPITAL LETTER M            CD  CAPITAL LETTER I WITH ACUTE\\n', '4E  CAPITAL LETTER N            CE  CAPITAL LETTER I WITH CIRCUMFLEX\\n', '4F  CAPITAL LETTER O            CF  CAPITAL LETTER I WITH DIAERESIS\\n', '50  CAPITAL LETTER P            D0  CAPITAL LETTER ETH (Icelandic)\\n', '51  CAPITAL LETTER Q            D1  CAPITAL LETTER N WITH TILDE\\n', '52  CAPITAL LETTER R            D2  CAPITAL LETTER O WITH GRAVE\\n', '53  CAPITAL LETTER S            D3  CAPITAL LETTER O WITH ACUTE\\n', '54  CAPITAL LETTER T            D4  CAPITAL LETTER O WITH CIRCUMFLEX\\n', '55  CAPITAL LETTER U            D5  CAPITAL LETTER O WITH TILDE\\n', '56  CAPITAL LETTER V            D6  CAPITAL LETTER O WITH DIAERESIS\\n', '57  CAPITAL LETTER W            D7  MULTIPLICATION SIGN\\n', '58  CAPITAL LETTER X            D8  CAPITAL LETTER O WITH STROKE\\n', '59  CAPITAL LETTER Y            D9  CAPITAL LETTER U WITH GRAVE\\n', '5A  CAPITAL LETTER Z            DA  CAPITAL LETTER U WITH ACUTE\\n', '5B  LEFT SQUARE BRACKET         DB  CAPITAL LETTER U WITH CIRCUMFLEX\\n', '5C  REVERSE SOLIDUS             DC  CAPITAL LETTER U WITH DIAERESIS\\n', '5D  RIGHT SQUARE BRACKET        DD  CAPITAL LETTER Y WITH ACUTE\\n', '5E  CIRCUMFLEX ACCENT           DE  CAPITAL LETTER THORN (Icelandic)\\n', '5F  LOW LINE                    DF  SMALL LETTER SHARP S (German)\\n', '60  GRAVE ACCENT                E0  SMALL LETTER A WITH GRAVE\\n', '61  SMALL LETTER A              E1  SMALL LETTER A WITH ACUTE\\n', '62  SMALL LETTER B              E2  SMALL LETTER A WITH CIRCUMFLEX\\n', '63  SMALL LETTER C              E3  SMALL LETTER A WITH TILDE\\n', '64  SMALL LETTER D              E4  SMALL LETTER A WITH DIAERESIS\\n', '65  SMALL LETTER E              E5  SMALL LETTER A WITH RING ABOVE\\n', '66  SMALL LETTER F              E6  SMALL LETTER AE\\n', '67  SMALL LETTER G              E7  SMALL LETTER C WITH CEDILLA\\n', '68  SMALL LETTER H              E8  SMALL LETTER E WITH GRAVE\\n', '69  SMALL LETTER I              E9  SMALL LETTER E WITH ACUTE\\n', '6A  SMALL LETTER J              EA  SMALL LETTER E WITH CIRCUMFLEX\\n', '6B  SMALL LETTER K              EB  SMALL LETTER E WITH DIAERESIS\\n', '6C  SMALL LETTER L              EC  SMALL LETTER I WITH GRAVE\\n', '6D  SMALL LETTER M              ED  SMALL LETTER I WITH ACUTE\\n', '6E  SMALL LETTER N              EE  SMALL LETTER I WITH CIRCUMFLEX\\n', '6F  SMALL LETTER O              EF  SMALL LETTER I WITH DIAERESIS\\n', '70  SMALL LETTER P              F0  SMALL LETTER ETH (Icelandic)\\n', '71  SMALL LETTER Q              F1  SMALL LETTER N WITH TILDE\\n', '72  SMALL LETTER R              F2  SMALL LETTER O WITH GRAVE\\n', '73  SMALL LETTER S              F3  SMALL LETTER O WITH ACUTE\\n', '74  SMALL LETTER T              F4  SMALL LETTER O WITH CIRCUMFLEX\\n', '75  SMALL LETTER U              F5  SMALL LETTER O WITH TILDE\\n', '76  SMALL LETTER V              F6  SMALL LETTER O WITH DIAERESIS\\n', '77  SMALL LETTER W              F7  DIVISION SIGN\\n', '78  SMALL LETTER X              F8  SMALL LETTER O WITH STROKE\\n', '79  SMALL LETTER Y              F9  SMALL LETTER U WITH GRAVE\\n', '7A  SMALL LETTER Z              FA  SMALL LETTER U WITH ACUTE\\n', '7B  LEFT CURLY BRACKET          FB  SMALL LETTER U WITH CIRCUMFLEX\\n', '7C  VERTICAL LINE               FC  SMALL LETTER U WITH DIAERESIS\\n', '7D  RIGHT CURLY BRACKET         FD  SMALL LETTER Y WITH ACUTE\\n', '7E  TILDE                       FE  SMALL LETTER THORN (Icelandic)\\n', '                                FF  SMALL LETTER Y WITH DIAERESIS\\n']\n"
     ]
    }
   ],
   "source": [
    "# Read all lines and save as a list\n",
    "\n",
    "with open(example1, \"r\") as file1:\n",
    "    FileasList = file1.readlines()\n",
    "    print(FileasList)"
   ]
  },
  {
   "cell_type": "markdown",
   "id": "179ddb8a-7194-4e65-8f36-8c146ebda6ef",
   "metadata": {},
   "source": [
    "Each element of the list corresponds to a line of text:\n"
   ]
  },
  {
   "cell_type": "code",
   "execution_count": 23,
   "id": "57ffa4b6-7e6c-4419-b6cb-7f5127ee44fa",
   "metadata": {},
   "outputs": [
    {
     "data": {
      "text/plain": [
       "'The following are the graphical (non-control) characters defined by\\n'"
      ]
     },
     "execution_count": 23,
     "metadata": {},
     "output_type": "execute_result"
    }
   ],
   "source": [
    "# Print the first line\n",
    "\n",
    "FileasList[0]"
   ]
  },
  {
   "cell_type": "code",
   "execution_count": 24,
   "id": "6c3d2c3e-e7c7-4506-9824-0d0522571b41",
   "metadata": {},
   "outputs": [
    {
     "data": {
      "text/plain": [
       "\"ISO 8859-1 (1987).  Descriptions in words aren't all that helpful,\\n\""
      ]
     },
     "execution_count": 24,
     "metadata": {},
     "output_type": "execute_result"
    }
   ],
   "source": [
    "# Print the second line\n",
    "\n",
    "FileasList[1]\n"
   ]
  },
  {
   "cell_type": "code",
   "execution_count": 25,
   "id": "2a5bb148-1bcc-418a-b581-8deddbc79975",
   "metadata": {},
   "outputs": [
    {
     "data": {
      "text/plain": [
       "\"but they're the best we can do in text.  A graphics file illustrating\\n\""
      ]
     },
     "execution_count": 25,
     "metadata": {},
     "output_type": "execute_result"
    }
   ],
   "source": [
    "# Print the third line\n",
    "\n",
    "FileasList[2]"
   ]
  }
 ],
 "metadata": {
  "kernelspec": {
   "display_name": "Python 3",
   "language": "python",
   "name": "python3"
  },
  "language_info": {
   "codemirror_mode": {
    "name": "ipython",
    "version": 3
   },
   "file_extension": ".py",
   "mimetype": "text/x-python",
   "name": "python",
   "nbconvert_exporter": "python",
   "pygments_lexer": "ipython3",
   "version": "3.10.11"
  },
  "prev_pub_hash": "655b621b6e5114470ea7626e8512bba78e15820fa058079df5fbd6fdb891a9d9"
 },
 "nbformat": 4,
 "nbformat_minor": 4
}
