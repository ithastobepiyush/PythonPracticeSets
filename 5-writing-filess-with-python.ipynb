{
 "cells": [
  {
   "cell_type": "markdown",
   "id": "639c22f9",
   "metadata": {},
   "source": [
    "# *Writing to a file*"
   ]
  },
  {
   "cell_type": "code",
   "execution_count": 2,
   "id": "ba3a4ed0",
   "metadata": {},
   "outputs": [],
   "source": [
    "with open('Example-11.txt', 'w') as file1:\n",
    "    file1.write(\"This is line  A\\n\")\n",
    "    file1.write(\"This is line  B\\n\")\n",
    "    file1.write(\"This is line  C\\n\")"
   ]
  },
  {
   "cell_type": "markdown",
   "id": "d02deebe",
   "metadata": {},
   "source": [
    "# *Appending data to an existing file*"
   ]
  },
  {
   "cell_type": "code",
   "execution_count": 3,
   "id": "0857a157",
   "metadata": {},
   "outputs": [],
   "source": [
    "# Data to append to the existing file\n",
    "new_data = \"Trying appending line to attached in Example-11.txt file thorugh with open function\"\n",
    "\n",
    "# Open an existing file Example2.txt for appending\n",
    "with open('Example-11.txt', 'a') as file1:\n",
    "    file1.write(new_data + \"\\n\")\n",
    "    # file1 is automatically closed when the 'with' block exits\n"
   ]
  },
  {
   "cell_type": "markdown",
   "id": "880d9b13",
   "metadata": {},
   "source": [
    "# *Appending contents from one file to another*"
   ]
  },
  {
   "cell_type": "code",
   "execution_count": 4,
   "id": "68f4fcf7",
   "metadata": {},
   "outputs": [],
   "source": [
    "Lines = ['This is line-1 in List', 'This is line-2 in List', 'This is line-3 in List', ]\n",
    "\n",
    "with open('Example-11.txt', 'a') as file1:\n",
    "    for line in Lines:\n",
    "        file1.write(line + '\\n')"
   ]
  },
  {
   "cell_type": "code",
   "execution_count": 5,
   "id": "4d51be2b",
   "metadata": {},
   "outputs": [],
   "source": [
    "with open('Example-11.txt', 'r') as source_file:\n",
    "    with open('example1.txt', 'a') as destination_file:\n",
    "        for line in source_file:\n",
    "            destination_file.write(line)"
   ]
  },
  {
   "cell_type": "code",
   "execution_count": 1,
   "id": "178545ab",
   "metadata": {},
   "outputs": [
    {
     "name": "stdout",
     "output_type": "stream",
     "text": [
      "Initial Location: 204\n",
      "read nothing\n",
      "\n",
      "New Location: 0\n",
      "Overwrite\n",
      "This is line C\n",
      "This is line D\n",
      "This is line E\n",
      "I am using a+ in this particular scenario\n",
      "I am using a+ in this particular scenario\n",
      "I am using a+ in this particular scenario\n",
      "This is line E\n",
      "\n",
      "Lpcation after read: 204\n"
     ]
    }
   ],
   "source": [
    "with open('Example2.txt', 'a+') as testwritefile:\n",
    "    print(\"Initial Location: {}\".format(testwritefile.tell()))\n",
    "\n",
    "    data = testwritefile.read()\n",
    "    if (not data): # empty strings return false in python\n",
    "        print(\"read nothing\")\n",
    "    else:\n",
    "        print(testwritefile.read())\n",
    "    testwritefile.seek(0,0) # move 0 bytes from the begining.\n",
    "    \n",
    "    print(\"\\nNew Location: {}\".format(testwritefile.tell()))\n",
    "    data = testwritefile.read()\n",
    "    if (not data):\n",
    "        print(\"read nothing\")\n",
    "    else:\n",
    "        print(data)\n",
    "\n",
    "    print(\"Lpcation after read: {}\".format(testwritefile.tell()))"
   ]
  }
 ],
 "metadata": {
  "kernelspec": {
   "display_name": "Python 3",
   "language": "python",
   "name": "python3"
  },
  "language_info": {
   "codemirror_mode": {
    "name": "ipython",
    "version": 3
   },
   "file_extension": ".py",
   "mimetype": "text/x-python",
   "name": "python",
   "nbconvert_exporter": "python",
   "pygments_lexer": "ipython3",
   "version": "3.10.11"
  }
 },
 "nbformat": 4,
 "nbformat_minor": 5
}
