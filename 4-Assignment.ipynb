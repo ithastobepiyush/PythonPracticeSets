{
 "cells": [
  {
   "cell_type": "code",
   "execution_count": 4,
   "id": "73f92488-ef52-467a-83f0-ae4d18ab061b",
   "metadata": {},
   "outputs": [
    {
     "name": "stdout",
     "output_type": "stream",
     "text": [
      "Execution of divide_numbers function is complete.\n",
      "The result is: 5.0\n",
      "Execution of divide_numbers function is complete.\n",
      "Error: You can't divide by zero!\n",
      "\n",
      "Execution of divide_numbers function is complete.\n",
      "Error: Please provide numbers only!\n"
     ]
    }
   ],
   "source": [
    "def divide_numbers(num1, num2):\n",
    "    try:\n",
    "        result = num1 / num2\n",
    "    except ZeroDivisionError:\n",
    "        return \"Error: You can't divide by zero!\\n\"\n",
    "    except TypeError:\n",
    "        return \"Error: Please provide numbers only!\"\n",
    "    else:\n",
    "        return f\"The result is: {result}\"\n",
    "    finally:\n",
    "        print(\"Execution of divide_numbers function is complete.\")\n",
    "\n",
    "# Testing the function\n",
    "print(divide_numbers(10, 2))  # Valid input\n",
    "print(divide_numbers(10, 0))  # Division by zero\n",
    "print(divide_numbers(10, \"a\"))  # Invalid type"
   ]
  },
  {
   "cell_type": "code",
   "execution_count": 6,
   "id": "3188d83e-0071-4041-91ac-c9137fc8b2a2",
   "metadata": {},
   "outputs": [
    {
     "name": "stdout",
     "output_type": "stream",
     "text": [
      "Buddy says wooooooooooooofffffffffffffff!\n"
     ]
    }
   ],
   "source": [
    "class Dog:\n",
    "    def __init__(self, name):\n",
    "        self.name = name\n",
    "\n",
    "    def bark(self):\n",
    "        return f\"{self.name} says wooooooooooooofffffffffffffff!\"\n",
    "\n",
    "my_dog = Dog(\"Buddy\")\n",
    "print(my_dog.bark())"
   ]
  },
  {
   "cell_type": "code",
   "execution_count": 7,
   "id": "11f0e511-d091-4cf6-a6e3-351eaed53396",
   "metadata": {},
   "outputs": [
    {
     "name": "stdout",
     "output_type": "stream",
     "text": [
      "Stop\n",
      "Mike\n"
     ]
    }
   ],
   "source": [
    "x = \"Gone\" \n",
    "if x == \"Go\": \n",
    "    print('Go') \n",
    "else: \n",
    "    print('Stop')\n",
    "print('Mike')"
   ]
  },
  {
   "cell_type": "code",
   "execution_count": 25,
   "id": "715ddf5e-b92d-41d9-a8b5-26b72f49d4ad",
   "metadata": {},
   "outputs": [
    {
     "name": "stdout",
     "output_type": "stream",
     "text": [
      "Exhibit 5: Vase - Ancient Greece\n",
      "Exhibit 6: Statue - Ancient Greece\n",
      "Exhibit 7: Mask - Ancient Greece\n"
     ]
    }
   ],
   "source": [
    "items = [\"Vase\", \"Statue\", \"Mask\"]\n",
    "for index, item in enumerate(items, start=5):\n",
    "    print(f\"Exhibit {index}: {item} - Ancient Greece\")"
   ]
  },
  {
   "cell_type": "code",
   "execution_count": 30,
   "id": "0e11044f-db6d-4ee3-b34e-745c9d81edd9",
   "metadata": {},
   "outputs": [
    {
     "name": "stdout",
     "output_type": "stream",
     "text": [
      "x= Boston  y= Denver\n"
     ]
    }
   ],
   "source": [
    "# Question 6\n",
    "# What is the result of running the following lines of code?\n",
    "\n",
    "class Points(object):\n",
    "    def __init__(self, x, y):\n",
    "        self.x = x\n",
    "        self.y = y\n",
    "    def print_point(self):\n",
    "        print('x=', self.x, ' y=', self.y)\n",
    "p2 = Points('Boston', 'Chicago')\n",
    "p2.y = 'Denver'\n",
    "p2.print_point()"
   ]
  },
  {
   "cell_type": "code",
   "execution_count": 31,
   "id": "b434f2bc-e224-43f8-b95f-2b4359bb0b89",
   "metadata": {},
   "outputs": [
    {
     "data": {
      "text/plain": [
       "1"
      ]
     },
     "execution_count": 31,
     "metadata": {},
     "output_type": "execute_result"
    }
   ],
   "source": [
    "# Considering the function delta, when will the following function return a value of 1?\n",
    "def delta(x): \n",
    "    if x == 0: \n",
    "        y = 1 \n",
    "    else: \n",
    "        y = 0 \n",
    "    return y\n",
    "delta(0)"
   ]
  },
  {
   "cell_type": "code",
   "execution_count": 36,
   "id": "10c9bdfb-2ad6-4f39-af7f-b2b147e9058e",
   "metadata": {},
   "outputs": [
    {
     "name": "stdout",
     "output_type": "stream",
     "text": [
      "101\n"
     ]
    }
   ],
   "source": [
    "a = 15 \n",
    "def do(x): \n",
    "    a = 100 \n",
    "    return x + a \n",
    "print(do(1))\n",
    "# cause here [a = 1] is not set to be global variable"
   ]
  },
  {
   "cell_type": "code",
   "execution_count": 60,
   "id": "a0b0510b-72bd-4926-9043-3bac4c98fd58",
   "metadata": {},
   "outputs": [
    {
     "data": {
      "text/plain": [
       "3.3"
      ]
     },
     "execution_count": 60,
     "metadata": {},
     "output_type": "execute_result"
    }
   ],
   "source": [
    "# Intermediate variable assignment\n",
    "\n",
    "def scientific_add(*nums): \n",
    "    return nums[0] + nums[1] \n",
    "scientific_add(1,2.3)"
   ]
  },
  {
   "cell_type": "code",
   "execution_count": 40,
   "id": "8e33ecdc-af06-418b-bf49-c11717829746",
   "metadata": {},
   "outputs": [
    {
     "data": {
      "text/plain": [
       "4.6"
      ]
     },
     "execution_count": 40,
     "metadata": {},
     "output_type": "execute_result"
    }
   ],
   "source": [
    "def Sc(num1, num2):\n",
    "    if isinstance(num1, (int, float)) and isinstance(num2, (int, float)):\n",
    "        return sum([num1, num2])\n",
    "    else:\n",
    "        return None\n",
    "Sc(2.3, 2.3)"
   ]
  },
  {
   "cell_type": "code",
   "execution_count": 44,
   "id": "cbad096c-ed1f-4ee3-8d49-2bd16dd0994d",
   "metadata": {},
   "outputs": [
    {
     "data": {
      "text/plain": [
       "2"
      ]
     },
     "execution_count": 44,
     "metadata": {},
     "output_type": "execute_result"
    }
   ],
   "source": [
    "\n",
    "def scientific_add(num1, num2):\n",
    "    result = 0 \n",
    "    for i in range(num2): \n",
    "        result += num1 \n",
    "    return result \n",
    "scientific_add(1,2)"
   ]
  },
  {
   "cell_type": "code",
   "execution_count": 45,
   "id": "156ef901-2469-49e5-9341-5443e26918ec",
   "metadata": {},
   "outputs": [
    {
     "data": {
      "text/plain": [
       "False"
      ]
     },
     "execution_count": 45,
     "metadata": {},
     "output_type": "execute_result"
    }
   ],
   "source": [
    "x = 1 \n",
    "x = x > 5\n",
    "x"
   ]
  },
  {
   "cell_type": "code",
   "execution_count": 54,
   "id": "00d928f6-eb5b-407c-9e90-501a5a258bc6",
   "metadata": {},
   "outputs": [
    {
     "name": "stdout",
     "output_type": "stream",
     "text": [
      "remaining:  100%\n",
      "remaining:  80%\n",
      "remaining:  60%\n",
      "remaining:  40%\n",
      "remaining:  20%\n",
      "remaining:  0%\n"
     ]
    }
   ],
   "source": [
    "remaining_percent = 100\n",
    "while remaining_percent >= 0:\n",
    "    print(f\"remaining:  {remaining_percent}%\")\n",
    "    remaining_percent = remaining_percent-20"
   ]
  },
  {
   "cell_type": "code",
   "execution_count": 58,
   "id": "6d114eec-ecea-4aa7-9fb8-0af698111cfc",
   "metadata": {},
   "outputs": [
    {
     "name": "stdout",
     "output_type": "stream",
     "text": [
      "1 : AA\n",
      "2 : BB\n",
      "3 : CC\n"
     ]
    }
   ],
   "source": [
    "for i, x in enumerate(['A', 'B', 'C'], start=1):\n",
    "    print(i, ':', 2 * x)\n",
    "\n"
   ]
  },
  {
   "cell_type": "code",
   "execution_count": 59,
   "id": "9c82cf8c-ef08-4910-9a36-f61cdbd1b6b6",
   "metadata": {},
   "outputs": [
    {
     "name": "stdout",
     "output_type": "stream",
     "text": [
      "Temperature: 25°C, Humidity: 45%\n"
     ]
    }
   ],
   "source": [
    "class WeatherData:\n",
    "    def __init__(self, temp_c, humidity):\n",
    "        self.temp_c = temp_c\n",
    "        self.humidity = humidity\n",
    "    def display(self):\n",
    "        print(f\"Temperature: {self.temp_c}°C, Humidity: {self.humidity}%\")\n",
    "today = WeatherData(22, 45)\n",
    "today.temp_c = 25\n",
    "today.display()"
   ]
  },
  {
   "cell_type": "code",
   "execution_count": 62,
   "id": "cf4375b9-30e4-47bf-8e43-14e39177a796",
   "metadata": {},
   "outputs": [
    {
     "name": "stdout",
     "output_type": "stream",
     "text": [
      "Error: Financial data file not found.\n"
     ]
    }
   ],
   "source": [
    "try: \n",
    "    file = open('financial_data.csv', 'r') \n",
    "    data = file.read() \n",
    "    result = process_data(data) \n",
    "    print(f\"Total: ${result}\") \n",
    "except FileNotFoundError: \n",
    "    print(\"Error: Financial data file not found.\") \n",
    "except ValueError: \n",
    "    print(\"Error: Data contains invalid values.\") \n",
    "# finally: \n",
    "#     file.close()"
   ]
  },
  {
   "cell_type": "code",
   "execution_count": 66,
   "id": "e7111c8e-0cee-47d7-86fa-83b22296645b",
   "metadata": {},
   "outputs": [
    {
     "data": {
      "text/plain": [
       "3.3"
      ]
     },
     "execution_count": 66,
     "metadata": {},
     "output_type": "execute_result"
    }
   ],
   "source": [
    "# Direct return of variable\n",
    "def add(a, b):\n",
    "    return a + b\n",
    "add(1,2.3)"
   ]
  }
 ],
 "metadata": {
  "kernelspec": {
   "display_name": "Python 3 (ipykernel)",
   "language": "python",
   "name": "python3"
  },
  "language_info": {
   "codemirror_mode": {
    "name": "ipython",
    "version": 3
   },
   "file_extension": ".py",
   "mimetype": "text/x-python",
   "name": "python",
   "nbconvert_exporter": "python",
   "pygments_lexer": "ipython3",
   "version": "3.10.11"
  }
 },
 "nbformat": 4,
 "nbformat_minor": 5
}
