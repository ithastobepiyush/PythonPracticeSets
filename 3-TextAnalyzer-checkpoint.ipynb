{
 "cells": [
  {
   "cell_type": "code",
   "execution_count": null,
   "id": "8fc22aaf",
   "metadata": {},
   "outputs": [],
   "source": [
    "price = 24.95\n",
    "discountAppliedPrice = price * 0.60 #discountAppliedPrice for 1 book\n",
    "totalBookPrice = 60*discountAppliedPrice #discountAppliedPrice for 60 books\n",
    "shippingFirst = 3\n",
    "newShipping = shippingFirst + 0.75*59\n",
    "wholeSaleCost = totalBookPrice + newShipping\n",
    "print(wholeSaleCost) "
   ]
  },
  {
   "cell_type": "code",
   "execution_count": null,
   "id": "8c48a3de",
   "metadata": {},
   "outputs": [],
   "source": [
    "# Write your code below and press Shift+Enter to execute\n",
    "\n",
    "# def freq(string, passedkey):\n",
    "#     words = []\n",
    "#     words = string.split()\n",
    "#     Dict = {}\n",
    "\n",
    "# freq(f\"Mary had a little lamb Little lamb, little lamb Mary had a little lamb.Its fleece was white as snow And everywhere that Mary went Mary went, Mary went Everywhere that Mary went The lamb was sure to go\", \"little\")\n",
    "\n",
    "\n",
    "\n",
    "xtring = \"Mary had a little lamb Little lamb, little lamb Mary had a little lamb.Its fleece was white as snow And everywhere that Mary went Mary went, Mary went Everywhere that Mary went The lamb was sure to go\"\n",
    "words = xtring.split()\n",
    "dictionary = {}\n",
    "def printDictionary(tring):\n",
    "    for key in tring:\n",
    "        print(f\"{key} :\") # all the keys in the args\n",
    "        print(f\"{tring[key]}\") #arguments key value\n",
    "        return 1\n",
    "    printDictionary(xtring)\n",
    "\n",
    "    # for key in words:\n",
    "    #     if(key == passedkey):\n",
    "    #         Dict[key] = words.count(key)\n",
    "    "
   ]
  }
 ],
 "metadata": {
  "kernelspec": {
   "display_name": "base",
   "language": "python",
   "name": "python3"
  },
  "language_info": {
   "codemirror_mode": {
    "name": "ipython",
    "version": 3
   },
   "file_extension": ".py",
   "mimetype": "text/x-python",
   "name": "python",
   "nbconvert_exporter": "python",
   "pygments_lexer": "ipython3",
   "version": "3.11.9"
  }
 },
 "nbformat": 4,
 "nbformat_minor": 5
}
